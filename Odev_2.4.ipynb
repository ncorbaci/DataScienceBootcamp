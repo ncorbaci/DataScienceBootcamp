{
 "cells": [
  {
   "cell_type": "code",
   "execution_count": null,
   "metadata": {},
   "outputs": [],
   "source": [
    "#1"
   ]
  },
  {
   "cell_type": "code",
   "execution_count": 9,
   "metadata": {
    "scrolled": false
   },
   "outputs": [
    {
     "name": "stdout",
     "output_type": "stream",
     "text": [
      "Lütfen Fahrenheit olarak sıcaklığı giriniz:77\n",
      "77F --> 25.00C\n"
     ]
    }
   ],
   "source": [
    "F = int(input(\"Lütfen Fahrenheit olarak sıcaklığı giriniz:\"))\n",
    "\n",
    "C = (5/9) * (F - 32)\n",
    "\n",
    "print(F,\"F --> \"\"{0:.2f}\".format(C),\"C\",sep=\"\")"
   ]
  },
  {
   "cell_type": "code",
   "execution_count": 10,
   "metadata": {},
   "outputs": [],
   "source": [
    "#2"
   ]
  },
  {
   "cell_type": "code",
   "execution_count": 55,
   "metadata": {},
   "outputs": [
    {
     "name": "stdout",
     "output_type": "stream",
     "text": [
      "Lütfen bir sözcük giriniz:nazım\n",
      "nazım --> mızan\n"
     ]
    }
   ],
   "source": [
    "sozcuk = input(\"Lütfen bir sözcük giriniz:\")\n",
    "boyut = len(sozcuk)+1\n",
    "\n",
    "terssozcuk=\"\"\n",
    "for n in range(1,boyut):\n",
    "    terssozcuk += sozcuk[-n]\n",
    "    \n",
    "print(sozcuk,\"-->\",terssozcuk)\n"
   ]
  },
  {
   "cell_type": "code",
   "execution_count": 28,
   "metadata": {},
   "outputs": [],
   "source": [
    "#3"
   ]
  },
  {
   "cell_type": "code",
   "execution_count": 42,
   "metadata": {},
   "outputs": [
    {
     "name": "stdout",
     "output_type": "stream",
     "text": [
      "[1, 1, 2, 3, 5, 8, 13, 21, 34]\n"
     ]
    }
   ],
   "source": [
    "n=1\n",
    "\n",
    "fibo=[1]\n",
    "\n",
    "while n < 50:\n",
    "    if len(fibo) == 1:\n",
    "        fibo.append(n)\n",
    "    else:\n",
    "        n = fibo[len(fibo)-2]+fibo[len(fibo)-1]\n",
    "        if n < 50:\n",
    "            fibo.append(n)\n",
    "        \n",
    "print(fibo)   \n",
    "        "
   ]
  },
  {
   "cell_type": "code",
   "execution_count": 44,
   "metadata": {},
   "outputs": [],
   "source": [
    "#4"
   ]
  },
  {
   "cell_type": "code",
   "execution_count": 46,
   "metadata": {
    "scrolled": true
   },
   "outputs": [
    {
     "name": "stdout",
     "output_type": "stream",
     "text": [
      "Lütfen bir sayı giriniz:6\n",
      "6 X 1 = 6\n",
      "6 X 2 = 12\n",
      "6 X 3 = 18\n",
      "6 X 4 = 24\n",
      "6 X 5 = 30\n",
      "6 X 6 = 36\n",
      "6 X 7 = 42\n",
      "6 X 8 = 48\n",
      "6 X 9 = 54\n",
      "6 X 10 = 60\n"
     ]
    }
   ],
   "source": [
    "a = int(input(\"Lütfen bir sayı giriniz:\"))\n",
    "for i in range(1,11):\n",
    "    print(a,\"X\",i,\"=\",a*i)"
   ]
  },
  {
   "cell_type": "code",
   "execution_count": 47,
   "metadata": {},
   "outputs": [],
   "source": [
    "#5"
   ]
  },
  {
   "cell_type": "code",
   "execution_count": 54,
   "metadata": {
    "scrolled": true
   },
   "outputs": [
    {
     "name": "stdout",
     "output_type": "stream",
     "text": [
      "[1, 8, 9, 64, 25, 216, 49, 512, 81, 1000, 121, 1728, 169, 2744, 225, 4096, 289, 5832, 361, 8000]\n"
     ]
    }
   ],
   "source": [
    "liste = [x**3 if x % 2 == 0 else x**2 for x in range(1,21)]\n",
    "print(liste)"
   ]
  }
 ],
 "metadata": {
  "kernelspec": {
   "display_name": "Python 3",
   "language": "python",
   "name": "python3"
  },
  "language_info": {
   "codemirror_mode": {
    "name": "ipython",
    "version": 3
   },
   "file_extension": ".py",
   "mimetype": "text/x-python",
   "name": "python",
   "nbconvert_exporter": "python",
   "pygments_lexer": "ipython3",
   "version": "3.7.2"
  }
 },
 "nbformat": 4,
 "nbformat_minor": 2
}
