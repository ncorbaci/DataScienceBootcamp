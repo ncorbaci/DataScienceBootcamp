{
 "cells": [
  {
   "cell_type": "code",
   "execution_count": 1,
   "metadata": {},
   "outputs": [],
   "source": [
    "#1"
   ]
  },
  {
   "cell_type": "code",
   "execution_count": 15,
   "metadata": {
    "scrolled": true
   },
   "outputs": [
    {
     "name": "stdout",
     "output_type": "stream",
     "text": [
      "Dize Sayısı: 12\n"
     ]
    }
   ],
   "source": [
    "with open(\"davet.txt\", \"r\", encoding='utf8') as f:\n",
    "    dizeler = f.readlines()\n",
    "\n",
    "with open(\"davet_son.txt\",'a') as t:    \n",
    "    \n",
    "    \n",
    "    print(\"Dize Sayısı:\",len(dizeler))\n",
    "    \n",
    "    for dize in dizeler:\n",
    "        #print(dize)\n",
    "        a=dize.split()[0]\n",
    "        t.write(a+\"\\n\")"
   ]
  },
  {
   "cell_type": "code",
   "execution_count": 16,
   "metadata": {},
   "outputs": [],
   "source": [
    "#2"
   ]
  },
  {
   "cell_type": "code",
   "execution_count": 1,
   "metadata": {},
   "outputs": [],
   "source": [
    "def asal_sayı(x):\n",
    "    asal = 0\n",
    "    \n",
    "    if x>2:\n",
    "        y = 2\n",
    "        \n",
    "        while y<x:\n",
    "            if x%y == 0:\n",
    "                asal+=1\n",
    "            y+=1 \n",
    "            \n",
    "    elif x == 1:\n",
    "        asal+=1\n",
    "            \n",
    "    if asal > 0:\n",
    "        print(x,\"asal sayı değildir\")\n",
    "    else:\n",
    "        print(x,\"asal sayıdır\")\n",
    "        \n",
    "    return"
   ]
  },
  {
   "cell_type": "code",
   "execution_count": 6,
   "metadata": {
    "scrolled": true
   },
   "outputs": [
    {
     "name": "stdout",
     "output_type": "stream",
     "text": [
      "18 asal sayı değildir\n"
     ]
    }
   ],
   "source": [
    "asal_sayı(18)"
   ]
  },
  {
   "cell_type": "code",
   "execution_count": 9,
   "metadata": {},
   "outputs": [],
   "source": [
    "def uniq_liste(x):\n",
    "    y = len(x)\n",
    "    z=[]\n",
    "    for i in x:\n",
    "        if i not in z:\n",
    "            z.append(i)\n",
    "\n",
    "    return z\n",
    "    "
   ]
  },
  {
   "cell_type": "code",
   "execution_count": 11,
   "metadata": {},
   "outputs": [
    {
     "data": {
      "text/plain": [
       "[1, 2, 3, 4, 5]"
      ]
     },
     "execution_count": 11,
     "metadata": {},
     "output_type": "execute_result"
    }
   ],
   "source": [
    "uniq_liste([1,2,2,3,3,4,4,4,4,5]) "
   ]
  },
  {
   "cell_type": "code",
   "execution_count": 12,
   "metadata": {},
   "outputs": [
    {
     "name": "stdout",
     "output_type": "stream",
     "text": [
      "Doğum tarihinizi (dd mm yyyy) formatında giriniz\n",
      "--->04 05 1985\n",
      "34\n"
     ]
    }
   ],
   "source": [
    "from datetime import datetime, date\n",
    "\n",
    "print(\"Doğum tarihinizi (dd mm yyyy) formatında giriniz\")\n",
    "date_of_birth = datetime.strptime(input(\"--->\"), \"%d %m %Y\")\n",
    "\n",
    "def calculate_age(born):\n",
    "    today = date.today()\n",
    "    return today.year - born.year - ((today.month, today.day) < (born.month, born.day))\n",
    "\n",
    "age = calculate_age(date_of_birth)\n",
    "\n",
    "print(age)"
   ]
  },
  {
   "cell_type": "code",
   "execution_count": null,
   "metadata": {},
   "outputs": [],
   "source": []
  }
 ],
 "metadata": {
  "kernelspec": {
   "display_name": "Python 3",
   "language": "python",
   "name": "python3"
  },
  "language_info": {
   "codemirror_mode": {
    "name": "ipython",
    "version": 3
   },
   "file_extension": ".py",
   "mimetype": "text/x-python",
   "name": "python",
   "nbconvert_exporter": "python",
   "pygments_lexer": "ipython3",
   "version": "3.7.2"
  }
 },
 "nbformat": 4,
 "nbformat_minor": 2
}
