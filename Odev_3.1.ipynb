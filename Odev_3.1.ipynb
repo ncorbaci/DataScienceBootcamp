{
 "cells": [
  {
   "cell_type": "code",
   "execution_count": 1,
   "metadata": {
    "scrolled": true
   },
   "outputs": [],
   "source": [
    "import pandas as pd\n",
    "import numpy as np\n",
    "import warnings\n",
    "warnings.filterwarnings('ignore')\n",
    "\n",
    "df=pd.DataFrame()\n",
    "\n",
    "df['val1']=np.random.normal(100, 100, 10000)\n",
    "df['val2']=np.random.normal(100, 50, 10000)\n",
    "df['val3']=np.random.normal(50, 100, 10000)\n"
   ]
  },
  {
   "cell_type": "code",
   "execution_count": 2,
   "metadata": {
    "scrolled": true
   },
   "outputs": [
    {
     "name": "stdout",
     "output_type": "stream",
     "text": [
      "Ortalama\n",
      "99.75292766492096\n",
      "99.75292766492099\n",
      "99.77446205587044\n",
      "99.77446205587023\n",
      "49.57208358876656\n",
      "49.57208358876672\n"
     ]
    }
   ],
   "source": [
    "# Ortalama\n",
    "print(\"Ortalama\")\n",
    "ortalamaval1=sum(df['val1']) / len(df['val1'])\n",
    "print(ortalamaval1)\n",
    "print(np.mean(df['val1']))\n",
    "ortalamaval2= sum(df['val2']) / len(df['val2'])\n",
    "print(ortalamaval2)\n",
    "print(np.mean(df['val2']))\n",
    "ortalamaval3= sum(df['val3']) / len(df['val3'])\n",
    "print(ortalamaval3)\n",
    "print(np.mean(df['val3']))"
   ]
  },
  {
   "cell_type": "code",
   "execution_count": 3,
   "metadata": {},
   "outputs": [
    {
     "name": "stdout",
     "output_type": "stream",
     "text": [
      "Medyan\n",
      "99.76989757457568\n",
      "99.76989757457568\n",
      "99.73285981133199\n",
      "99.73285981133199\n",
      "49.67108747876611\n",
      "49.67108747876611\n"
     ]
    }
   ],
   "source": [
    "# Medyan\n",
    "import statistics\n",
    "print(\"Medyan\")\n",
    "print(statistics.median(df['val1']))\n",
    "print(np.median(df['val1']))\n",
    "print(statistics.median(df['val2']))\n",
    "print(np.median(df['val2']))\n",
    "print(statistics.median(df['val3']))\n",
    "print(np.median(df['val3']))\n",
    "\n",
    "\n"
   ]
  },
  {
   "cell_type": "code",
   "execution_count": 6,
   "metadata": {},
   "outputs": [
    {
     "name": "stdout",
     "output_type": "stream",
     "text": [
      "90\n",
      "90\n",
      "82\n",
      "82\n",
      "0\n",
      "0\n"
     ]
    }
   ],
   "source": [
    "# Mod\n",
    "import statistics\n",
    "results = list(map(int, df['val1']))\n",
    "print(statistics.mode(results))\n",
    "(values, counts) = np.unique(results, return_counts=True)\n",
    "ind = np.argmax(counts)\n",
    "print(values[ind])\n",
    "results = list(map(int, df['val2']))\n",
    "print(statistics.mode(results))\n",
    "(values, counts) = np.unique(results, return_counts=True)\n",
    "ind = np.argmax(counts)\n",
    "print(values[ind])\n",
    "results = list(map(int, df['val3']))\n",
    "print(statistics.mode(results))\n",
    "(values, counts) = np.unique(results, return_counts=True)\n",
    "ind = np.argmax(counts)\n",
    "print(values[ind])"
   ]
  },
  {
   "cell_type": "code",
   "execution_count": 8,
   "metadata": {},
   "outputs": [
    {
     "name": "stdout",
     "output_type": "stream",
     "text": [
      "9922.388759881107\n",
      "9922.388759881107\n",
      "2512.0903090095258\n",
      "2512.0903090095258\n",
      "9958.740939717123\n",
      "9958.740939717123\n"
     ]
    }
   ],
   "source": [
    "# Varyans\n",
    "print(np.var(df['val1'], ddof=1))\n",
    "print(df['val1'].var())\n",
    "print(np.var(df['val2'], ddof=1))\n",
    "print(df['val2'].var())\n",
    "print(np.var(df['val3'], ddof=1))\n",
    "print(df['val3'].var())"
   ]
  },
  {
   "cell_type": "code",
   "execution_count": 13,
   "metadata": {},
   "outputs": [
    {
     "name": "stdout",
     "output_type": "stream",
     "text": [
      "99.6111879252582\n",
      "99.6111879252582\n",
      "50.120757266920116\n",
      "50.120757266920116\n",
      "99.79349146972022\n",
      "99.79349146972022\n"
     ]
    }
   ],
   "source": [
    "# Standard Sapma\n",
    "\n",
    "print(np.std(df['val1'], ddof=1))\n",
    "print(df['val1'].std())\n",
    "print(np.std(df['val2'], ddof=1))\n",
    "print(df['val2'].std())\n",
    "print(np.std(df['val3'], ddof=1))\n",
    "print(df['val3'].std())\n"
   ]
  },
  {
   "cell_type": "code",
   "execution_count": 15,
   "metadata": {},
   "outputs": [
    {
     "name": "stdout",
     "output_type": "stream",
     "text": [
      "0.996111879252582\n",
      "0.5012075726692011\n",
      "0.9979349146972022\n"
     ]
    }
   ],
   "source": [
    "# Standard Hata\n",
    "print(np.std(df['val1'] ,ddof=1) / np.sqrt(len(df['val1'])))\n",
    "print(np.std(df['val2'] ,ddof=1) / np.sqrt(len(df['val2'])))\n",
    "print(np.std(df['val3'] ,ddof=1) / np.sqrt(len(df['val3'])))"
   ]
  },
  {
   "cell_type": "code",
   "execution_count": null,
   "metadata": {},
   "outputs": [],
   "source": []
  }
 ],
 "metadata": {
  "kernelspec": {
   "display_name": "Python 3",
   "language": "python",
   "name": "python3"
  },
  "language_info": {
   "codemirror_mode": {
    "name": "ipython",
    "version": 3
   },
   "file_extension": ".py",
   "mimetype": "text/x-python",
   "name": "python",
   "nbconvert_exporter": "python",
   "pygments_lexer": "ipython3",
   "version": "3.7.2"
  }
 },
 "nbformat": 4,
 "nbformat_minor": 2
}
