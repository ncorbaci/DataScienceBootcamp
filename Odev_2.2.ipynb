{
 "cells": [
  {
   "cell_type": "code",
   "execution_count": 1,
   "metadata": {},
   "outputs": [
    {
     "name": "stdout",
     "output_type": "stream",
     "text": [
      "1120.0\n",
      "1254.4\n",
      "1404.9280000000003\n",
      "1573.5193600000005\n",
      "1762.3416832000007\n",
      "1973.822685184001\n",
      "2210.6814074060812\n"
     ]
    }
   ],
   "source": [
    "btc_current = 1000\n",
    "btc = 1000\n",
    "inc = 12\n",
    "day = 7\n",
    "ctr = 1\n",
    "\n",
    "while ctr <= day:\n",
    "    btc = btc * 1.12\n",
    "    print(btc)\n",
    "    ctr += 1\n",
    "    \n"
   ]
  },
  {
   "cell_type": "code",
   "execution_count": 2,
   "metadata": {
    "scrolled": true
   },
   "outputs": [
    {
     "name": "stdout",
     "output_type": "stream",
     "text": [
      "1210.6814074060812\n",
      "Hafta başında 1000 dolarlık bitcoin aldığımızda günde ortalama %12 kazançla, \n",
      "      bir hafta sonunda 1210.68 dolar kazanırdık\n"
     ]
    }
   ],
   "source": [
    "profit = btc - btc_current \n",
    "print(profit)\n",
    "print(\"\"\"Hafta başında {} dolarlık bitcoin aldığımızda günde ortalama %{} kazançla, \n",
    "      bir hafta sonunda {:.2f} dolar kazanırdık\"\"\".format(btc_current,inc,profit))"
   ]
  },
  {
   "cell_type": "code",
   "execution_count": 5,
   "metadata": {},
   "outputs": [
    {
     "name": "stdout",
     "output_type": "stream",
     "text": [
      "Dosya Adı : test\n",
      "test.py\n"
     ]
    }
   ],
   "source": [
    "filename = input('Dosya Adı : ')\n",
    "print (\"{}\".format(filename),\".py\", sep=\"\")\n"
   ]
  }
 ],
 "metadata": {
  "kernelspec": {
   "display_name": "Python 3",
   "language": "python",
   "name": "python3"
  },
  "language_info": {
   "codemirror_mode": {
    "name": "ipython",
    "version": 3
   },
   "file_extension": ".py",
   "mimetype": "text/x-python",
   "name": "python",
   "nbconvert_exporter": "python",
   "pygments_lexer": "ipython3",
   "version": "3.7.2"
  }
 },
 "nbformat": 4,
 "nbformat_minor": 2
}
