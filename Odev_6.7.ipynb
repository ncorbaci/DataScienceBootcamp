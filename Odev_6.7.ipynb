{
 "cells": [
  {
   "cell_type": "markdown",
   "metadata": {},
   "source": [
    "* Ev Fiyatları verilerini Kaggle'dan indirin.\n",
    "* Önceki dersteki modelinizi yeniden uygulayın.\n",
    "* Aynı model tanımını kullanarak OLS, Lasso, Ridge ve ElasticNet regresyonlarını deneyin. Bu kez, modelleriniz için en iyi hiperparametre değerlerini seçmek için k-fold çapraz doğrulama yapmanız gerekir. Hangi model en iyisidir? Açıklayın?"
   ]
  },
  {
   "cell_type": "markdown",
   "metadata": {},
   "source": [
    "**Model 3**"
   ]
  },
  {
   "cell_type": "code",
   "execution_count": 1,
   "metadata": {},
   "outputs": [],
   "source": [
    "import pandas as pd\n",
    "import matplotlib.pyplot as plt\n",
    "import seaborn as sns\n",
    "import numpy as np\n",
    "import scipy.stats as sts\n",
    "import statsmodels.api as sm\n",
    "import warnings\n",
    "\n",
    "from statsmodels.tools.eval_measures import mse, rmse\n",
    "from statsmodels.tsa.stattools import acf\n",
    "\n",
    "from sklearn import linear_model\n",
    "from sklearn.model_selection import train_test_split, KFold, cross_val_score\n",
    "from sklearn.preprocessing import normalize, scale, StandardScaler\n",
    "from sklearn.decomposition import PCA\n",
    "from sklearn.linear_model import LinearRegression, Ridge, Lasso, ElasticNet\n",
    "from sklearn.metrics import mean_absolute_error\n",
    "\n",
    "from scipy.stats.mstats import winsorize\n",
    "from scipy.stats import jarque_bera, normaltest, bartlett, levene\n",
    "from sqlalchemy import create_engine\n",
    "\n",
    "warnings.filterwarnings('ignore')"
   ]
  },
  {
   "cell_type": "code",
   "execution_count": 2,
   "metadata": {},
   "outputs": [],
   "source": [
    "ev_fiyat = pd.read_csv('./datasets/ev_fiyatlari.csv')"
   ]
  },
  {
   "cell_type": "code",
   "execution_count": 3,
   "metadata": {},
   "outputs": [
    {
     "data": {
      "text/html": [
       "<div>\n",
       "<style scoped>\n",
       "    .dataframe tbody tr th:only-of-type {\n",
       "        vertical-align: middle;\n",
       "    }\n",
       "\n",
       "    .dataframe tbody tr th {\n",
       "        vertical-align: top;\n",
       "    }\n",
       "\n",
       "    .dataframe thead th {\n",
       "        text-align: right;\n",
       "    }\n",
       "</style>\n",
       "<table border=\"1\" class=\"dataframe\">\n",
       "  <thead>\n",
       "    <tr style=\"text-align: right;\">\n",
       "      <th></th>\n",
       "      <th>nulls</th>\n",
       "    </tr>\n",
       "  </thead>\n",
       "  <tbody>\n",
       "    <tr>\n",
       "      <td>LotFrontage</td>\n",
       "      <td>259</td>\n",
       "    </tr>\n",
       "    <tr>\n",
       "      <td>Alley</td>\n",
       "      <td>1369</td>\n",
       "    </tr>\n",
       "    <tr>\n",
       "      <td>MasVnrType</td>\n",
       "      <td>8</td>\n",
       "    </tr>\n",
       "    <tr>\n",
       "      <td>MasVnrArea</td>\n",
       "      <td>8</td>\n",
       "    </tr>\n",
       "    <tr>\n",
       "      <td>BsmtQual</td>\n",
       "      <td>37</td>\n",
       "    </tr>\n",
       "    <tr>\n",
       "      <td>BsmtCond</td>\n",
       "      <td>37</td>\n",
       "    </tr>\n",
       "    <tr>\n",
       "      <td>BsmtExposure</td>\n",
       "      <td>38</td>\n",
       "    </tr>\n",
       "    <tr>\n",
       "      <td>BsmtFinType1</td>\n",
       "      <td>37</td>\n",
       "    </tr>\n",
       "    <tr>\n",
       "      <td>BsmtFinType2</td>\n",
       "      <td>38</td>\n",
       "    </tr>\n",
       "    <tr>\n",
       "      <td>Electrical</td>\n",
       "      <td>1</td>\n",
       "    </tr>\n",
       "    <tr>\n",
       "      <td>FireplaceQu</td>\n",
       "      <td>690</td>\n",
       "    </tr>\n",
       "    <tr>\n",
       "      <td>GarageType</td>\n",
       "      <td>81</td>\n",
       "    </tr>\n",
       "    <tr>\n",
       "      <td>GarageYrBlt</td>\n",
       "      <td>81</td>\n",
       "    </tr>\n",
       "    <tr>\n",
       "      <td>GarageFinish</td>\n",
       "      <td>81</td>\n",
       "    </tr>\n",
       "    <tr>\n",
       "      <td>GarageQual</td>\n",
       "      <td>81</td>\n",
       "    </tr>\n",
       "    <tr>\n",
       "      <td>GarageCond</td>\n",
       "      <td>81</td>\n",
       "    </tr>\n",
       "    <tr>\n",
       "      <td>PoolQC</td>\n",
       "      <td>1453</td>\n",
       "    </tr>\n",
       "    <tr>\n",
       "      <td>Fence</td>\n",
       "      <td>1179</td>\n",
       "    </tr>\n",
       "    <tr>\n",
       "      <td>MiscFeature</td>\n",
       "      <td>1406</td>\n",
       "    </tr>\n",
       "  </tbody>\n",
       "</table>\n",
       "</div>"
      ],
      "text/plain": [
       "              nulls\n",
       "LotFrontage     259\n",
       "Alley          1369\n",
       "MasVnrType        8\n",
       "MasVnrArea        8\n",
       "BsmtQual         37\n",
       "BsmtCond         37\n",
       "BsmtExposure     38\n",
       "BsmtFinType1     37\n",
       "BsmtFinType2     38\n",
       "Electrical        1\n",
       "FireplaceQu     690\n",
       "GarageType       81\n",
       "GarageYrBlt      81\n",
       "GarageFinish     81\n",
       "GarageQual       81\n",
       "GarageCond       81\n",
       "PoolQC         1453\n",
       "Fence          1179\n",
       "MiscFeature    1406"
      ]
     },
     "execution_count": 3,
     "metadata": {},
     "output_type": "execute_result"
    }
   ],
   "source": [
    "ev_fiyat_nulls = ev_fiyat.isnull().sum().to_frame('nulls')\n",
    "ev_fiyat_nulls[ev_fiyat_nulls[\"nulls\"]> 0]"
   ]
  },
  {
   "cell_type": "markdown",
   "metadata": {},
   "source": [
    "**Null Kayıtların Temizlenmesi:**"
   ]
  },
  {
   "cell_type": "code",
   "execution_count": 4,
   "metadata": {},
   "outputs": [],
   "source": [
    "# Basement parameters\n",
    "ev_fiyat.BsmtQual.fillna(\"NA\", inplace = True)\n",
    "ev_fiyat.BsmtCond.fillna(\"NA\", inplace = True)\n",
    "ev_fiyat.BsmtExposure.fillna(\"NA\", inplace = True)\n",
    "ev_fiyat.BsmtFinType1.fillna(\"NA\", inplace = True)\n",
    "ev_fiyat.BsmtFinType2.fillna(\"NA\", inplace = True)\n",
    "\n",
    "# Garage Parameters\n",
    "ev_fiyat.GarageType.fillna(\"NA\", inplace = True)\n",
    "ev_fiyat.GarageYrBlt.fillna(\"NA\", inplace = True)\n",
    "ev_fiyat.GarageFinish.fillna(\"NA\", inplace = True)\n",
    "ev_fiyat.GarageQual.fillna(\"NA\", inplace = True)\n",
    "ev_fiyat.GarageCond.fillna(\"NA\", inplace = True)\n",
    "\n",
    "\n",
    "#LotFrontage Parameter\n",
    "ev_fiyat.LotFrontage.fillna(ev_fiyat.LotFrontage.mean(), inplace = True)\n",
    "\n",
    "#Alley Parameter\n",
    "ev_fiyat.Alley.fillna(\"NA\", inplace = True)\n",
    "\n",
    "#MasVnrType Parameter\n",
    "ev_fiyat.MasVnrType.fillna(\"None\", inplace = True)\n",
    "\n",
    "#MasVnrArea Parameter\n",
    "ev_fiyat.MasVnrArea.fillna(0.0, inplace = True)\n",
    "\n",
    "#Electrical Parameter\n",
    "ev_fiyat.Electrical.fillna(ev_fiyat.Electrical.value_counts().index[0], inplace = True) \n",
    "\n",
    "#FireplaceQu Parameter\n",
    "ev_fiyat.FireplaceQu.fillna(\"NA\", inplace = True)\n",
    "\n",
    "#PoolQC Parameter\n",
    "ev_fiyat.PoolQC.fillna(\"NA\", inplace = True)\n",
    "\n",
    "#Fence\n",
    "ev_fiyat.Fence.fillna(\"NA\", inplace = True)\n",
    "\n",
    "#MiscFeature\n",
    "ev_fiyat.MiscFeature.fillna(\"NA\", inplace = True)"
   ]
  },
  {
   "cell_type": "code",
   "execution_count": 5,
   "metadata": {},
   "outputs": [],
   "source": [
    "del ev_fiyat['GarageYrBlt']\n",
    "categorical_feature_mask = ev_fiyat.dtypes==object\n",
    "categorical_cols = ev_fiyat.columns[categorical_feature_mask].tolist()"
   ]
  },
  {
   "cell_type": "code",
   "execution_count": 6,
   "metadata": {},
   "outputs": [],
   "source": [
    "from sklearn.preprocessing import LabelEncoder\n",
    "le = LabelEncoder()"
   ]
  },
  {
   "cell_type": "code",
   "execution_count": 7,
   "metadata": {},
   "outputs": [],
   "source": [
    "ev_fiyat[categorical_cols] = ev_fiyat[categorical_cols].apply(lambda col: le.fit_transform(col))"
   ]
  },
  {
   "cell_type": "code",
   "execution_count": 24,
   "metadata": {},
   "outputs": [
    {
     "name": "stdout",
     "output_type": "stream",
     "text": [
      "Değişkenler: \n",
      " [-18598.58648752  18681.47005408    400.51767399  11692.33072401\n",
      "     30.31278296     45.30483329]\n",
      "Sabit değer (bias): \n",
      " -788640.4950737257\n"
     ]
    }
   ],
   "source": [
    "Y = ev_fiyat['SalePrice']\n",
    "X = ev_fiyat[['ExterQual','OverallQual', \n",
    "                  'YearRemodAdd', 'Fireplaces','TotalBsmtSF','GrLivArea']]\n",
    "\n",
    "lrm = linear_model.LinearRegression()\n",
    "lrm.fit(X, Y)\n",
    "\n",
    "print('Değişkenler: \\n', lrm.coef_)\n",
    "print('Sabit değer (bias): \\n', lrm.intercept_)"
   ]
  },
  {
   "cell_type": "code",
   "execution_count": 25,
   "metadata": {},
   "outputs": [
    {
     "data": {
      "text/html": [
       "<table class=\"simpletable\">\n",
       "<caption>OLS Regression Results</caption>\n",
       "<tr>\n",
       "  <th>Dep. Variable:</th>        <td>SalePrice</td>    <th>  R-squared:         </th> <td>   0.773</td> \n",
       "</tr>\n",
       "<tr>\n",
       "  <th>Model:</th>                   <td>OLS</td>       <th>  Adj. R-squared:    </th> <td>   0.772</td> \n",
       "</tr>\n",
       "<tr>\n",
       "  <th>Method:</th>             <td>Least Squares</td>  <th>  F-statistic:       </th> <td>   824.1</td> \n",
       "</tr>\n",
       "<tr>\n",
       "  <th>Date:</th>             <td>Mon, 06 Jan 2020</td> <th>  Prob (F-statistic):</th>  <td>  0.00</td>  \n",
       "</tr>\n",
       "<tr>\n",
       "  <th>Time:</th>                 <td>10:23:04</td>     <th>  Log-Likelihood:    </th> <td> -17462.</td> \n",
       "</tr>\n",
       "<tr>\n",
       "  <th>No. Observations:</th>      <td>  1460</td>      <th>  AIC:               </th> <td>3.494e+04</td>\n",
       "</tr>\n",
       "<tr>\n",
       "  <th>Df Residuals:</th>          <td>  1453</td>      <th>  BIC:               </th> <td>3.497e+04</td>\n",
       "</tr>\n",
       "<tr>\n",
       "  <th>Df Model:</th>              <td>     6</td>      <th>                     </th>     <td> </td>    \n",
       "</tr>\n",
       "<tr>\n",
       "  <th>Covariance Type:</th>      <td>nonrobust</td>    <th>                     </th>     <td> </td>    \n",
       "</tr>\n",
       "</table>\n",
       "<table class=\"simpletable\">\n",
       "<tr>\n",
       "        <td></td>          <th>coef</th>     <th>std err</th>      <th>t</th>      <th>P>|t|</th>  <th>[0.025</th>    <th>0.975]</th>  \n",
       "</tr>\n",
       "<tr>\n",
       "  <th>const</th>        <td>-7.886e+05</td> <td> 1.17e+05</td> <td>   -6.734</td> <td> 0.000</td> <td>-1.02e+06</td> <td>-5.59e+05</td>\n",
       "</tr>\n",
       "<tr>\n",
       "  <th>ExterQual</th>    <td> -1.86e+04</td> <td> 1922.276</td> <td>   -9.675</td> <td> 0.000</td> <td>-2.24e+04</td> <td>-1.48e+04</td>\n",
       "</tr>\n",
       "<tr>\n",
       "  <th>OverallQual</th>  <td> 1.868e+04</td> <td> 1180.942</td> <td>   15.819</td> <td> 0.000</td> <td> 1.64e+04</td> <td>  2.1e+04</td>\n",
       "</tr>\n",
       "<tr>\n",
       "  <th>YearRemodAdd</th> <td>  400.5177</td> <td>   59.465</td> <td>    6.735</td> <td> 0.000</td> <td>  283.872</td> <td>  517.164</td>\n",
       "</tr>\n",
       "<tr>\n",
       "  <th>Fireplaces</th>   <td> 1.169e+04</td> <td> 1790.974</td> <td>    6.528</td> <td> 0.000</td> <td> 8179.160</td> <td> 1.52e+04</td>\n",
       "</tr>\n",
       "<tr>\n",
       "  <th>TotalBsmtSF</th>  <td>   30.3128</td> <td>    2.795</td> <td>   10.847</td> <td> 0.000</td> <td>   24.831</td> <td>   35.795</td>\n",
       "</tr>\n",
       "<tr>\n",
       "  <th>GrLivArea</th>    <td>   45.3048</td> <td>    2.501</td> <td>   18.113</td> <td> 0.000</td> <td>   40.398</td> <td>   50.211</td>\n",
       "</tr>\n",
       "</table>\n",
       "<table class=\"simpletable\">\n",
       "<tr>\n",
       "  <th>Omnibus:</th>       <td>612.192</td> <th>  Durbin-Watson:     </th> <td>   1.977</td> \n",
       "</tr>\n",
       "<tr>\n",
       "  <th>Prob(Omnibus):</th> <td> 0.000</td>  <th>  Jarque-Bera (JB):  </th> <td>73588.347</td>\n",
       "</tr>\n",
       "<tr>\n",
       "  <th>Skew:</th>          <td>-0.930</td>  <th>  Prob(JB):          </th> <td>    0.00</td> \n",
       "</tr>\n",
       "<tr>\n",
       "  <th>Kurtosis:</th>      <td>37.731</td>  <th>  Cond. No.          </th> <td>3.24e+05</td> \n",
       "</tr>\n",
       "</table><br/><br/>Warnings:<br/>[1] Standard Errors assume that the covariance matrix of the errors is correctly specified.<br/>[2] The condition number is large, 3.24e+05. This might indicate that there are<br/>strong multicollinearity or other numerical problems."
      ],
      "text/plain": [
       "<class 'statsmodels.iolib.summary.Summary'>\n",
       "\"\"\"\n",
       "                            OLS Regression Results                            \n",
       "==============================================================================\n",
       "Dep. Variable:              SalePrice   R-squared:                       0.773\n",
       "Model:                            OLS   Adj. R-squared:                  0.772\n",
       "Method:                 Least Squares   F-statistic:                     824.1\n",
       "Date:                Mon, 06 Jan 2020   Prob (F-statistic):               0.00\n",
       "Time:                        10:23:04   Log-Likelihood:                -17462.\n",
       "No. Observations:                1460   AIC:                         3.494e+04\n",
       "Df Residuals:                    1453   BIC:                         3.497e+04\n",
       "Df Model:                           6                                         \n",
       "Covariance Type:            nonrobust                                         \n",
       "================================================================================\n",
       "                   coef    std err          t      P>|t|      [0.025      0.975]\n",
       "--------------------------------------------------------------------------------\n",
       "const        -7.886e+05   1.17e+05     -6.734      0.000   -1.02e+06   -5.59e+05\n",
       "ExterQual     -1.86e+04   1922.276     -9.675      0.000   -2.24e+04   -1.48e+04\n",
       "OverallQual   1.868e+04   1180.942     15.819      0.000    1.64e+04     2.1e+04\n",
       "YearRemodAdd   400.5177     59.465      6.735      0.000     283.872     517.164\n",
       "Fireplaces    1.169e+04   1790.974      6.528      0.000    8179.160    1.52e+04\n",
       "TotalBsmtSF     30.3128      2.795     10.847      0.000      24.831      35.795\n",
       "GrLivArea       45.3048      2.501     18.113      0.000      40.398      50.211\n",
       "==============================================================================\n",
       "Omnibus:                      612.192   Durbin-Watson:                   1.977\n",
       "Prob(Omnibus):                  0.000   Jarque-Bera (JB):            73588.347\n",
       "Skew:                          -0.930   Prob(JB):                         0.00\n",
       "Kurtosis:                      37.731   Cond. No.                     3.24e+05\n",
       "==============================================================================\n",
       "\n",
       "Warnings:\n",
       "[1] Standard Errors assume that the covariance matrix of the errors is correctly specified.\n",
       "[2] The condition number is large, 3.24e+05. This might indicate that there are\n",
       "strong multicollinearity or other numerical problems.\n",
       "\"\"\""
      ]
     },
     "execution_count": 25,
     "metadata": {},
     "output_type": "execute_result"
    }
   ],
   "source": [
    "import statsmodels.api as sm\n",
    "\n",
    "X = sm.add_constant(X)\n",
    "results = sm.OLS(Y, X).fit()\n",
    "results.summary()"
   ]
  },
  {
   "cell_type": "code",
   "execution_count": 26,
   "metadata": {},
   "outputs": [],
   "source": [
    "X_egitim, X_test, y_egitim, y_test = train_test_split(X, Y, test_size = 0.2, random_state = 465)"
   ]
  },
  {
   "cell_type": "code",
   "execution_count": 27,
   "metadata": {},
   "outputs": [
    {
     "name": "stdout",
     "output_type": "stream",
     "text": [
      "Eğitim kümesindeki gözlem sayısı  : 1168\n",
      "Test kümesindeki gözlem sayısı    : 292 \n",
      "\n",
      "Eğitim kümesindeki R-Kare değeri  : 0.7655157590448299\n",
      "-----Test kümesi istatistikleri---\n",
      "Test kümesi R-Kare değeri         : 0.7914573244698969\n",
      "Ortalama Mutlak Hata (MAE)        : 25545.719823528263\n",
      "Ortalama Kare Hata (MSE)          : 1510968176.849789\n",
      "Kök Ortalama Kare Hata (RMSE)     : 38871.17411205621\n",
      "Ortalama Mutlak Yüzde Hata (MAPE) : 14.923049299445488\n"
     ]
    }
   ],
   "source": [
    "lrm = LinearRegression()\n",
    "lrm.fit(X_egitim, y_egitim)\n",
    "\n",
    "y_egitim_tahmini = lrm.predict(X_egitim)\n",
    "y_test_tahmini = lrm.predict(X_test)\n",
    "\n",
    "print(\"Eğitim kümesindeki gözlem sayısı  : {}\".format(X_egitim.shape[0]))\n",
    "print(\"Test kümesindeki gözlem sayısı    : {}\".format(X_test.shape[0]), \"\\n\")\n",
    "\n",
    "print(\"Eğitim kümesindeki R-Kare değeri  : {}\".format(lrm.score(X_egitim, y_egitim)))\n",
    "print(\"-----Test kümesi istatistikleri---\")\n",
    "print(\"Test kümesi R-Kare değeri         : {}\".format(lrm.score(X_test, y_test)))\n",
    "print(\"Ortalama Mutlak Hata (MAE)        : {}\".format(mean_absolute_error(y_test, y_test_tahmini)))\n",
    "print(\"Ortalama Kare Hata (MSE)          : {}\".format(mse(y_test, y_test_tahmini)))\n",
    "print(\"Kök Ortalama Kare Hata (RMSE)     : {}\".format(rmse(y_test, y_test_tahmini)))\n",
    "print(\"Ortalama Mutlak Yüzde Hata (MAPE) : {}\".format(np.mean(np.abs((y_test - y_test_tahmini) / y_test)) * 100))"
   ]
  },
  {
   "cell_type": "markdown",
   "metadata": {},
   "source": [
    "**Ridge regresyonu**"
   ]
  },
  {
   "cell_type": "code",
   "execution_count": 12,
   "metadata": {},
   "outputs": [
    {
     "name": "stdout",
     "output_type": "stream",
     "text": [
      "Eğitim kümesi R-Kare değeri       : 0.5665134189429076\n",
      "-----Test kümesi istatistikleri---\n",
      "Test kümesi R-Kare değeri         : 0.6123546948996788\n",
      "Ortalama Mutlak Hata (MAE)        : 33471.65654239804\n",
      "Ortalama Kare Hata (MSE)          : 2808632422.2269983\n",
      "Kök Ortalama Kare Hata (RMSE)     : 52996.53217170911\n",
      "Ortalama Mutlak Yüzde Hata (MAPE) : 18.53385007632016\n"
     ]
    }
   ],
   "source": [
    "from sklearn.linear_model import Ridge\n",
    "\n",
    "ridgeregr = Ridge(alpha=10**8) \n",
    "ridgeregr.fit(X_egitim, y_egitim)\n",
    "\n",
    "y_egitim_tahmini = ridgeregr.predict(X_egitim)\n",
    "y_test_tahmini = ridgeregr.predict(X_test)\n",
    "\n",
    "print(\"Eğitim kümesi R-Kare değeri       : {}\".format(ridgeregr.score(X_egitim, y_egitim)))\n",
    "print(\"-----Test kümesi istatistikleri---\")\n",
    "print(\"Test kümesi R-Kare değeri         : {}\".format(ridgeregr.score(X_test, y_test)))\n",
    "print(\"Ortalama Mutlak Hata (MAE)        : {}\".format(mean_absolute_error(y_test, y_test_tahmini)))\n",
    "print(\"Ortalama Kare Hata (MSE)          : {}\".format(mse(y_test, y_test_tahmini)))\n",
    "print(\"Kök Ortalama Kare Hata (RMSE)     : {}\".format(rmse(y_test, y_test_tahmini)))\n",
    "print(\"Ortalama Mutlak Yüzde Hata (MAPE) : {}\".format(np.mean(np.abs((y_test - y_test_tahmini) / y_test)) * 100))"
   ]
  },
  {
   "cell_type": "markdown",
   "metadata": {},
   "source": [
    "**Lasso regresyonu**"
   ]
  },
  {
   "cell_type": "code",
   "execution_count": 13,
   "metadata": {},
   "outputs": [
    {
     "name": "stdout",
     "output_type": "stream",
     "text": [
      "Eğitim kümesi R-Kare değeri       : 0.0\n",
      "-----Test kümesi istatistikleri---\n",
      "Test kümesi R-Kare değeri         : -0.0019389852335491842\n",
      "Ortalama Mutlak Hata (MAE)        : 58947.449052355034\n",
      "Ortalama Kare Hata (MSE)          : 7259415455.301054\n",
      "Kök Ortalama Kare Hata (RMSE)     : 85202.20334768963\n",
      "Ortalama Mutlak Yüzde Hata (MAPE) : 35.30720792964479\n"
     ]
    }
   ],
   "source": [
    "from sklearn.linear_model import Lasso\n",
    "\n",
    "lassoregr = Lasso(alpha=10**8) \n",
    "lassoregr.fit(X_egitim, y_egitim)\n",
    "\n",
    "y_egitim_tahmini = lassoregr.predict(X_egitim)\n",
    "y_test_tahmini = lassoregr.predict(X_test)\n",
    "\n",
    "print(\"Eğitim kümesi R-Kare değeri       : {}\".format(lassoregr.score(X_egitim, y_egitim)))\n",
    "print(\"-----Test kümesi istatistikleri---\")\n",
    "print(\"Test kümesi R-Kare değeri         : {}\".format(lassoregr.score(X_test, y_test)))\n",
    "print(\"Ortalama Mutlak Hata (MAE)        : {}\".format(mean_absolute_error(y_test, y_test_tahmini)))\n",
    "print(\"Ortalama Kare Hata (MSE)          : {}\".format(mse(y_test, y_test_tahmini)))\n",
    "print(\"Kök Ortalama Kare Hata (RMSE)     : {}\".format(rmse(y_test, y_test_tahmini)))\n",
    "print(\"Ortalama Mutlak Yüzde Hata (MAPE) : {}\".format(np.mean(np.abs((y_test - y_test_tahmini) / y_test)) * 100))"
   ]
  },
  {
   "cell_type": "markdown",
   "metadata": {},
   "source": [
    "**ElasticNet regresyonu**"
   ]
  },
  {
   "cell_type": "code",
   "execution_count": 14,
   "metadata": {},
   "outputs": [
    {
     "name": "stdout",
     "output_type": "stream",
     "text": [
      "Eğitim kümesi R-Kare değeri       : 0.5801485211585713\n",
      "-----Test kümesi istatistikleri---\n",
      "Test kümesi R-Kare değeri         : 0.6372541483420945\n",
      "Ortalama Mutlak Hata (MAE)        : 32563.15684577634\n",
      "Ortalama Kare Hata (MSE)          : 2628226749.0149837\n",
      "Kök Ortalama Kare Hata (RMSE)     : 51266.23400460564\n",
      "Ortalama Mutlak Yüzde Hata (MAPE) : 17.933710142913686\n"
     ]
    }
   ],
   "source": [
    "from sklearn.linear_model import ElasticNet\n",
    "\n",
    "elasticregr = ElasticNet(alpha=10**5, l1_ratio=0.5) \n",
    "elasticregr.fit(X_egitim, y_egitim)\n",
    "\n",
    "y_egitim_tahmini = elasticregr.predict(X_egitim)\n",
    "y_test_tahmini = elasticregr.predict(X_test)\n",
    "\n",
    "print(\"Eğitim kümesi R-Kare değeri       : {}\".format(elasticregr.score(X_egitim, y_egitim)))\n",
    "print(\"-----Test kümesi istatistikleri---\")\n",
    "print(\"Test kümesi R-Kare değeri         : {}\".format(elasticregr.score(X_test, y_test)))\n",
    "print(\"Ortalama Mutlak Hata (MAE)        : {}\".format(mean_absolute_error(y_test, y_test_tahmini)))\n",
    "print(\"Ortalama Kare Hata (MSE)          : {}\".format(mse(y_test, y_test_tahmini)))\n",
    "print(\"Kök Ortalama Kare Hata (RMSE)     : {}\".format(rmse(y_test, y_test_tahmini)))\n",
    "print(\"Ortalama Mutlak Yüzde Hata (MAPE) : {}\".format(np.mean(np.abs((y_test - y_test_tahmini) / y_test)) * 100))"
   ]
  },
  {
   "cell_type": "code",
   "execution_count": 28,
   "metadata": {},
   "outputs": [
    {
     "name": "stdout",
     "output_type": "stream",
     "text": [
      "Alfası 1 olan Ridge regresyon modelin Train skoru:  0.765515563350477\n",
      "Alfası 1 olan Ridge regresyon modelin Test skoru:  0.7914812479380722\n",
      "Kullanılan öznitelik sayısı:  6\n",
      "Alfası 1000 olan Ridge regresyon modelin Train skoru:  0.737172920954524\n",
      "Alfası 1000 olan Ridge regresyon modelin Test skoru:  0.776316438791386\n",
      "Kullanılan öznitelik sayısı:  6\n",
      "Alfası 1000000 olan Ridge regresyon modelin Train skoru:  0.6273436152794682\n",
      "Alfası 1000000 olan Ridge regresyon modelin Test skoru:  0.6966826381009431\n",
      "Kullanılan öznitelik sayısı:  6\n",
      "Alfası 1000000000 olan Ridge regresyon modelin Train skoru:  0.29193010067573055\n",
      "Alfası 1000000000 olan Ridge regresyon modelin Test skoru:  0.28986960088139724\n",
      "Kullanılan öznitelik sayısı:  6\n",
      "\n",
      "\n",
      "---------------\n",
      "Alfası 1 olan Lasso regresyon modelin Train skoru:  0.7655157579726166\n",
      "Alfası 1 olan Lasso regresyon modelin Test skoru:  0.7914588700300396\n",
      "Kullanılan öznitelik sayısı:  6\n",
      "Alfası 1000 olan Lasso regresyon modelin Train skoru:  0.7644435830096725\n",
      "Alfası 1000 olan Lasso regresyon modelin Test skoru:  0.7919449506207518\n",
      "Kullanılan öznitelik sayısı:  6\n",
      "Alfası 1000000 olan Lasso regresyon modelin Train skoru:  0.5874932893784064\n",
      "Alfası 1000000 olan Lasso regresyon modelin Test skoru:  0.6592111104465627\n",
      "Kullanılan öznitelik sayısı:  2\n",
      "Alfası 1000000000 olan Lasso regresyon modelin Train skoru:  0.0\n",
      "Alfası 1000000000 olan Lasso regresyon modelin Test skoru:  -0.0019389852335491842\n",
      "Kullanılan öznitelik sayısı:  0\n",
      "\n",
      "\n",
      "---------------\n",
      "Alfası 1 olan Elastic regresyon modelin Train skoru:  0.7491014361457077\n",
      "Alfası 1 olan Elastic regresyon modelin Test skoru:  0.7847475169944216\n",
      "Kullanılan öznitelik sayısı:  6\n",
      "Alfası 1000 olan Elastic regresyon modelin Train skoru:  0.639084954874269\n",
      "Alfası 1000 olan Elastic regresyon modelin Test skoru:  0.7046162256876745\n",
      "Kullanılan öznitelik sayısı:  6\n",
      "Alfası 1000000 olan Elastic regresyon modelin Train skoru:  0.3790304568979196\n",
      "Alfası 1000000 olan Elastic regresyon modelin Test skoru:  0.38205789477453383\n",
      "Kullanılan öznitelik sayısı:  3\n",
      "Alfası 1000000000 olan Elastic regresyon modelin Train skoru:  0.0\n",
      "Alfası 1000000000 olan Elastic regresyon modelin Test skoru:  -0.0019389852335491842\n",
      "Kullanılan öznitelik sayısı:  0\n"
     ]
    }
   ],
   "source": [
    "alfa = [1,1000,1000000,1000000000] #Yüksek alfa değeri, katsayılarda daha yüksek kısıtlama demek\n",
    "for güncelalfa in alfa:\n",
    "    r = Ridge(alpha=güncelalfa)\n",
    "    r.fit(X_egitim, y_egitim)\n",
    "    y_pred = r.predict(X_test)\n",
    "    print('Alfası ' + str(güncelalfa) + ' olan Ridge regresyon modelin Train skoru: ',r.score(X_egitim, y_egitim))\n",
    "    print('Alfası ' + str(güncelalfa) + ' olan Ridge regresyon modelin Test skoru: ',r.score(X_test, y_test))\n",
    "    print('Kullanılan öznitelik sayısı: ',np.sum(r.coef_!=0))\n",
    "\n",
    "print('\\n')\n",
    "print('---------------')\n",
    "\n",
    "for güncelalfa in alfa:\n",
    "    lasso = Lasso(alpha=güncelalfa,max_iter=10e5)\n",
    "    lasso.fit(X_egitim, y_egitim)\n",
    "    y_pred=lasso.predict(X_test)\n",
    "    print('Alfası ' + str(güncelalfa) + ' olan Lasso regresyon modelin Train skoru: ',lasso.score(X_egitim, y_egitim))\n",
    "    print('Alfası ' + str(güncelalfa) + ' olan Lasso regresyon modelin Test skoru: ',lasso.score(X_test,y_test))\n",
    "    print('Kullanılan öznitelik sayısı: ',np.sum(lasso.coef_!=0))\n",
    "    \n",
    "print('\\n')\n",
    "print('---------------')\n",
    "\n",
    "for güncelalfa in alfa:\n",
    "    elasticregr = ElasticNet(alpha=güncelalfa,max_iter=10e5)\n",
    "    elasticregr.fit(X_egitim, y_egitim)\n",
    "    y_pred=elasticregr.predict(X_test)\n",
    "    print('Alfası ' + str(güncelalfa) + ' olan Elastic regresyon modelin Train skoru: ',elasticregr.score(X_egitim, y_egitim))\n",
    "    print('Alfası ' + str(güncelalfa) + ' olan Elastic regresyon modelin Test skoru: ',elasticregr.score(X_test,y_test))\n",
    "    print('Kullanılan öznitelik sayısı: ',np.sum(elasticregr.coef_!=0))\n",
    "\n"
   ]
  },
  {
   "cell_type": "markdown",
   "metadata": {},
   "source": [
    "**Alpha parametresini değişimine göre Ridge, Lasso ve ElasticNet regresyon sonuçları:**"
   ]
  },
  {
   "cell_type": "markdown",
   "metadata": {},
   "source": [
    "* Ridge regresyonunda öznitelik sayısı eksilmedi. Fakat Lasso ve ElasticNet regresyonun da alfa parametresi arttıkça öztinelik sayımız azaldı. Lasso ve ElasticNet regresyonu öznitelik seçimi(feature selection) yaptı.\n",
    "\n",
    "* Lasso ve ElasticNet regresyonlarında alfa 1000000 iken skorlarımız düşüktü çünkü ciddi sayıda öznitelik elemesi yaptı ve bu eksik öğrenmeye(underfitting) sebep oldu. Aşırı öğrenme durumunda alfayı arttırmamız aşırı öğrenmeyi azalttığında dolayı eksik öğrenmeyi de düzeltmek için alfa parametresini azaltıyoruz. Böylece skorumuzun yükseldiğini görüyoruz.\n",
    "\n",
    "* Alfa parametresini çok küçültmemiz bizi lineer regresyonu skoruna yaklaştırdığını görüyoruz."
   ]
  },
  {
   "cell_type": "markdown",
   "metadata": {},
   "source": [
    "**Model 2**"
   ]
  },
  {
   "cell_type": "code",
   "execution_count": 16,
   "metadata": {},
   "outputs": [
    {
     "name": "stdout",
     "output_type": "stream",
     "text": [
      "Değişkenler: \n",
      " [-20178.97140092  25657.22516738    369.8230829   20773.25435411\n",
      "     37.94481889]\n",
      "Sabit değer (bias): \n",
      " -711228.6759159762\n"
     ]
    }
   ],
   "source": [
    "Y = ev_fiyat['SalePrice']\n",
    "X = ev_fiyat[['ExterQual','OverallQual', \n",
    "                  'YearRemodAdd', 'Fireplaces','TotalBsmtSF']]\n",
    "\n",
    "lrm = linear_model.LinearRegression()\n",
    "lrm.fit(X, Y)\n",
    "\n",
    "print('Değişkenler: \\n', lrm.coef_)\n",
    "print('Sabit değer (bias): \\n', lrm.intercept_)"
   ]
  },
  {
   "cell_type": "code",
   "execution_count": 17,
   "metadata": {},
   "outputs": [
    {
     "data": {
      "text/html": [
       "<table class=\"simpletable\">\n",
       "<caption>OLS Regression Results</caption>\n",
       "<tr>\n",
       "  <th>Dep. Variable:</th>        <td>SalePrice</td>    <th>  R-squared:         </th> <td>   0.722</td> \n",
       "</tr>\n",
       "<tr>\n",
       "  <th>Model:</th>                   <td>OLS</td>       <th>  Adj. R-squared:    </th> <td>   0.721</td> \n",
       "</tr>\n",
       "<tr>\n",
       "  <th>Method:</th>             <td>Least Squares</td>  <th>  F-statistic:       </th> <td>   753.7</td> \n",
       "</tr>\n",
       "<tr>\n",
       "  <th>Date:</th>             <td>Mon, 06 Jan 2020</td> <th>  Prob (F-statistic):</th>  <td>  0.00</td>  \n",
       "</tr>\n",
       "<tr>\n",
       "  <th>Time:</th>                 <td>09:30:15</td>     <th>  Log-Likelihood:    </th> <td> -17611.</td> \n",
       "</tr>\n",
       "<tr>\n",
       "  <th>No. Observations:</th>      <td>  1460</td>      <th>  AIC:               </th> <td>3.523e+04</td>\n",
       "</tr>\n",
       "<tr>\n",
       "  <th>Df Residuals:</th>          <td>  1454</td>      <th>  BIC:               </th> <td>3.526e+04</td>\n",
       "</tr>\n",
       "<tr>\n",
       "  <th>Df Model:</th>              <td>     5</td>      <th>                     </th>     <td> </td>    \n",
       "</tr>\n",
       "<tr>\n",
       "  <th>Covariance Type:</th>      <td>nonrobust</td>    <th>                     </th>     <td> </td>    \n",
       "</tr>\n",
       "</table>\n",
       "<table class=\"simpletable\">\n",
       "<tr>\n",
       "        <td></td>          <th>coef</th>     <th>std err</th>      <th>t</th>      <th>P>|t|</th>  <th>[0.025</th>    <th>0.975]</th>  \n",
       "</tr>\n",
       "<tr>\n",
       "  <th>const</th>        <td>-7.112e+05</td> <td>  1.3e+05</td> <td>   -5.491</td> <td> 0.000</td> <td>-9.65e+05</td> <td>-4.57e+05</td>\n",
       "</tr>\n",
       "<tr>\n",
       "  <th>ExterQual</th>    <td>-2.018e+04</td> <td> 2125.333</td> <td>   -9.494</td> <td> 0.000</td> <td>-2.43e+04</td> <td> -1.6e+04</td>\n",
       "</tr>\n",
       "<tr>\n",
       "  <th>OverallQual</th>  <td> 2.566e+04</td> <td> 1235.579</td> <td>   20.765</td> <td> 0.000</td> <td> 2.32e+04</td> <td> 2.81e+04</td>\n",
       "</tr>\n",
       "<tr>\n",
       "  <th>YearRemodAdd</th> <td>  369.8231</td> <td>   65.787</td> <td>    5.622</td> <td> 0.000</td> <td>  240.775</td> <td>  498.871</td>\n",
       "</tr>\n",
       "<tr>\n",
       "  <th>Fireplaces</th>   <td> 2.077e+04</td> <td> 1902.954</td> <td>   10.916</td> <td> 0.000</td> <td>  1.7e+04</td> <td> 2.45e+04</td>\n",
       "</tr>\n",
       "<tr>\n",
       "  <th>TotalBsmtSF</th>  <td>   37.9448</td> <td>    3.058</td> <td>   12.410</td> <td> 0.000</td> <td>   31.947</td> <td>   43.943</td>\n",
       "</tr>\n",
       "</table>\n",
       "<table class=\"simpletable\">\n",
       "<tr>\n",
       "  <th>Omnibus:</th>       <td>525.164</td> <th>  Durbin-Watson:     </th> <td>   1.992</td> \n",
       "</tr>\n",
       "<tr>\n",
       "  <th>Prob(Omnibus):</th> <td> 0.000</td>  <th>  Jarque-Bera (JB):  </th> <td>20160.669</td>\n",
       "</tr>\n",
       "<tr>\n",
       "  <th>Skew:</th>          <td> 0.973</td>  <th>  Prob(JB):          </th> <td>    0.00</td> \n",
       "</tr>\n",
       "<tr>\n",
       "  <th>Kurtosis:</th>      <td>21.100</td>  <th>  Cond. No.          </th> <td>2.66e+05</td> \n",
       "</tr>\n",
       "</table><br/><br/>Warnings:<br/>[1] Standard Errors assume that the covariance matrix of the errors is correctly specified.<br/>[2] The condition number is large, 2.66e+05. This might indicate that there are<br/>strong multicollinearity or other numerical problems."
      ],
      "text/plain": [
       "<class 'statsmodels.iolib.summary.Summary'>\n",
       "\"\"\"\n",
       "                            OLS Regression Results                            \n",
       "==============================================================================\n",
       "Dep. Variable:              SalePrice   R-squared:                       0.722\n",
       "Model:                            OLS   Adj. R-squared:                  0.721\n",
       "Method:                 Least Squares   F-statistic:                     753.7\n",
       "Date:                Mon, 06 Jan 2020   Prob (F-statistic):               0.00\n",
       "Time:                        09:30:15   Log-Likelihood:                -17611.\n",
       "No. Observations:                1460   AIC:                         3.523e+04\n",
       "Df Residuals:                    1454   BIC:                         3.526e+04\n",
       "Df Model:                           5                                         \n",
       "Covariance Type:            nonrobust                                         \n",
       "================================================================================\n",
       "                   coef    std err          t      P>|t|      [0.025      0.975]\n",
       "--------------------------------------------------------------------------------\n",
       "const        -7.112e+05    1.3e+05     -5.491      0.000   -9.65e+05   -4.57e+05\n",
       "ExterQual    -2.018e+04   2125.333     -9.494      0.000   -2.43e+04    -1.6e+04\n",
       "OverallQual   2.566e+04   1235.579     20.765      0.000    2.32e+04    2.81e+04\n",
       "YearRemodAdd   369.8231     65.787      5.622      0.000     240.775     498.871\n",
       "Fireplaces    2.077e+04   1902.954     10.916      0.000     1.7e+04    2.45e+04\n",
       "TotalBsmtSF     37.9448      3.058     12.410      0.000      31.947      43.943\n",
       "==============================================================================\n",
       "Omnibus:                      525.164   Durbin-Watson:                   1.992\n",
       "Prob(Omnibus):                  0.000   Jarque-Bera (JB):            20160.669\n",
       "Skew:                           0.973   Prob(JB):                         0.00\n",
       "Kurtosis:                      21.100   Cond. No.                     2.66e+05\n",
       "==============================================================================\n",
       "\n",
       "Warnings:\n",
       "[1] Standard Errors assume that the covariance matrix of the errors is correctly specified.\n",
       "[2] The condition number is large, 2.66e+05. This might indicate that there are\n",
       "strong multicollinearity or other numerical problems.\n",
       "\"\"\""
      ]
     },
     "execution_count": 17,
     "metadata": {},
     "output_type": "execute_result"
    }
   ],
   "source": [
    "import statsmodels.api as sm\n",
    "\n",
    "X = sm.add_constant(X)\n",
    "results = sm.OLS(Y, X).fit()\n",
    "results.summary()"
   ]
  },
  {
   "cell_type": "code",
   "execution_count": 18,
   "metadata": {},
   "outputs": [],
   "source": [
    "X_egitim, X_test, y_egitim, y_test = train_test_split(X, Y, test_size = 0.2, random_state = 465)"
   ]
  },
  {
   "cell_type": "code",
   "execution_count": 19,
   "metadata": {},
   "outputs": [
    {
     "name": "stdout",
     "output_type": "stream",
     "text": [
      "Eğitim kümesindeki gözlem sayısı  : 1168\n",
      "Test kümesindeki gözlem sayısı    : 292 \n",
      "\n",
      "Eğitim kümesindeki R-Kare değeri  : 0.7161570318647561\n",
      "-----Test kümesi istatistikleri---\n",
      "Test kümesi R-Kare değeri         : 0.7348688173217928\n",
      "Ortalama Mutlak Hata (MAE)        : 27876.59736928248\n",
      "Ortalama Kare Hata (MSE)          : 1920972667.579935\n",
      "Kök Ortalama Kare Hata (RMSE)     : 43828.90219455576\n",
      "Ortalama Mutlak Yüzde Hata (MAPE) : 16.174693781946065\n"
     ]
    }
   ],
   "source": [
    "lrm = LinearRegression()\n",
    "lrm.fit(X_egitim, y_egitim)\n",
    "\n",
    "y_egitim_tahmini = lrm.predict(X_egitim)\n",
    "y_test_tahmini = lrm.predict(X_test)\n",
    "\n",
    "print(\"Eğitim kümesindeki gözlem sayısı  : {}\".format(X_egitim.shape[0]))\n",
    "print(\"Test kümesindeki gözlem sayısı    : {}\".format(X_test.shape[0]), \"\\n\")\n",
    "\n",
    "print(\"Eğitim kümesindeki R-Kare değeri  : {}\".format(lrm.score(X_egitim, y_egitim)))\n",
    "print(\"-----Test kümesi istatistikleri---\")\n",
    "print(\"Test kümesi R-Kare değeri         : {}\".format(lrm.score(X_test, y_test)))\n",
    "print(\"Ortalama Mutlak Hata (MAE)        : {}\".format(mean_absolute_error(y_test, y_test_tahmini)))\n",
    "print(\"Ortalama Kare Hata (MSE)          : {}\".format(mse(y_test, y_test_tahmini)))\n",
    "print(\"Kök Ortalama Kare Hata (RMSE)     : {}\".format(rmse(y_test, y_test_tahmini)))\n",
    "print(\"Ortalama Mutlak Yüzde Hata (MAPE) : {}\".format(np.mean(np.abs((y_test - y_test_tahmini) / y_test)) * 100))"
   ]
  },
  {
   "cell_type": "code",
   "execution_count": 22,
   "metadata": {},
   "outputs": [
    {
     "name": "stdout",
     "output_type": "stream",
     "text": [
      "Alfası 1 olan Ridge regresyon modelin Train skoru:  0.7161567489465052\n",
      "Alfası 1 olan Ridge regresyon modelin Test skoru:  0.7349116625246269\n",
      "Kullanılan öznitelik sayısı:  5\n",
      "Alfası 1000 olan Ridge regresyon modelin Train skoru:  0.664844047963881\n",
      "Alfası 1000 olan Ridge regresyon modelin Test skoru:  0.7086512186040781\n",
      "Kullanılan öznitelik sayısı:  5\n",
      "Alfası 1000000 olan Ridge regresyon modelin Train skoru:  0.4148384624149694\n",
      "Alfası 1000000 olan Ridge regresyon modelin Test skoru:  0.5228012331631476\n",
      "Kullanılan öznitelik sayısı:  5\n",
      "Alfası 1000000000 olan Ridge regresyon modelin Train skoru:  0.1147569501510568\n",
      "Alfası 1000000000 olan Ridge regresyon modelin Test skoru:  0.12964781419763138\n",
      "Kullanılan öznitelik sayısı:  5\n",
      "\n",
      "\n",
      "---------------\n",
      "Alfası 1 olan Lasso regresyon modelin Train skoru:  0.7161570310912664\n",
      "Alfası 1 olan Lasso regresyon modelin Test skoru:  0.7348706240239254\n",
      "Kullanılan öznitelik sayısı:  5\n",
      "Alfası 1000 olan Lasso regresyon modelin Train skoru:  0.7152587472844115\n",
      "Alfası 1000 olan Lasso regresyon modelin Test skoru:  0.7359356476494023\n",
      "Kullanılan öznitelik sayısı:  5\n",
      "Alfası 1000000 olan Lasso regresyon modelin Train skoru:  0.34368205001234076\n",
      "Alfası 1000000 olan Lasso regresyon modelin Test skoru:  0.4665783799996418\n",
      "Kullanılan öznitelik sayısı:  1\n",
      "Alfası 1000000000 olan Lasso regresyon modelin Train skoru:  0.0\n",
      "Alfası 1000000000 olan Lasso regresyon modelin Test skoru:  -0.0019389852335491842\n",
      "Kullanılan öznitelik sayısı:  0\n",
      "\n",
      "\n",
      "---------------\n",
      "Alfası 1 olan Elastic regresyon modelin Train skoru:  0.6881958580292798\n",
      "Alfası 1 olan Elastic regresyon modelin Test skoru:  0.7249477040520298\n",
      "Kullanılan öznitelik sayısı:  5\n",
      "Alfası 1000 olan Elastic regresyon modelin Train skoru:  0.43569407393040904\n",
      "Alfası 1000 olan Elastic regresyon modelin Test skoru:  0.5360227423334704\n",
      "Kullanılan öznitelik sayısı:  5\n",
      "Alfası 1000000 olan Elastic regresyon modelin Train skoru:  0.16116527214774745\n",
      "Alfası 1000000 olan Elastic regresyon modelin Test skoru:  0.18533150423111977\n",
      "Kullanılan öznitelik sayısı:  2\n",
      "Alfası 1000000000 olan Elastic regresyon modelin Train skoru:  0.0\n",
      "Alfası 1000000000 olan Elastic regresyon modelin Test skoru:  -0.0019389852335491842\n",
      "Kullanılan öznitelik sayısı:  0\n"
     ]
    }
   ],
   "source": [
    "alfa = [1,1000,1000000,1000000000] #Yüksek alfa değeri, katsayılarda daha yüksek kısıtlama demek\n",
    "for güncelalfa in alfa:\n",
    "    r = Ridge(alpha=güncelalfa)\n",
    "    r.fit(X_egitim, y_egitim)\n",
    "    y_pred = r.predict(X_test)\n",
    "    print('Alfası ' + str(güncelalfa) + ' olan Ridge regresyon modelin Train skoru: ',r.score(X_egitim, y_egitim))\n",
    "    print('Alfası ' + str(güncelalfa) + ' olan Ridge regresyon modelin Test skoru: ',r.score(X_test, y_test))\n",
    "    print('Kullanılan öznitelik sayısı: ',np.sum(r.coef_!=0))\n",
    "\n",
    "print('\\n')\n",
    "print('---------------')\n",
    "\n",
    "for güncelalfa in alfa:\n",
    "    lasso = Lasso(alpha=güncelalfa,max_iter=10e5)\n",
    "    lasso.fit(X_egitim, y_egitim)\n",
    "    y_pred=lasso.predict(X_test)\n",
    "    print('Alfası ' + str(güncelalfa) + ' olan Lasso regresyon modelin Train skoru: ',lasso.score(X_egitim, y_egitim))\n",
    "    print('Alfası ' + str(güncelalfa) + ' olan Lasso regresyon modelin Test skoru: ',lasso.score(X_test,y_test))\n",
    "    print('Kullanılan öznitelik sayısı: ',np.sum(lasso.coef_!=0))\n",
    "    \n",
    "print('\\n')\n",
    "print('---------------')\n",
    "\n",
    "for güncelalfa in alfa:\n",
    "    elasticregr = ElasticNet(alpha=güncelalfa,max_iter=10e5)\n",
    "    elasticregr.fit(X_egitim, y_egitim)\n",
    "    y_pred=elasticregr.predict(X_test)\n",
    "    print('Alfası ' + str(güncelalfa) + ' olan Elastic regresyon modelin Train skoru: ',elasticregr.score(X_egitim, y_egitim))\n",
    "    print('Alfası ' + str(güncelalfa) + ' olan Elastic regresyon modelin Test skoru: ',elasticregr.score(X_test,y_test))\n",
    "    print('Kullanılan öznitelik sayısı: ',np.sum(elasticregr.coef_!=0))"
   ]
  },
  {
   "attachments": {
    "image.png": {
     "image/png": "[encoded data removed]"
    }
   },
   "cell_type": "markdown",
   "metadata": {},
   "source": [
    "![image.png](attachment:image.png)\n"
   ]
  },
  {
   "cell_type": "code",
   "execution_count": null,
   "metadata": {},
   "outputs": [],
   "source": []
  }
 ],
 "metadata": {
  "kernelspec": {
   "display_name": "Python 3",
   "language": "python",
   "name": "python3"
  },
  "language_info": {
   "codemirror_mode": {
    "name": "ipython",
    "version": 3
   },
   "file_extension": ".py",
   "mimetype": "text/x-python",
   "name": "python",
   "nbconvert_exporter": "python",
   "pygments_lexer": "ipython3",
   "version": "3.7.2"
  }
 },
 "nbformat": 4,
 "nbformat_minor": 2
}
