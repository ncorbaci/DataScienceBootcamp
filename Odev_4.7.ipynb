{
 "cells": [
  {
   "cell_type": "markdown",
   "metadata": {},
   "source": [
    "1. Sınav sonuçları normal dağılımlı mıdır? Değilse normal dağılıma sahip hale getirmek için ne yapabiliriz?\n",
    "\n",
    "2. Üç sınav sonucunu tek bir değişkende, hedef değişkeni olarak tutmak istiyoruz. \n",
    "Bunun için üç sınavın ortalamasını içeren yeni bir değişken tanımlayın. \n",
    "Bu yeni değişkenin ortalamasının normal dağılımlı olup olmadığını test edin. \n",
    "Eğer normal dağılıma sahip değilse dönüşüm yaparak normal dağılımlı hale getirmeye çalışın ve dönüşümün sonucunu test edin.\n",
    "\n",
    "3. Bir önceki soruda oluşturduğumuz hedef değişkeni ile hangi değişkenler ilişkili görünüyor? \n",
    "Eğer amacımız sınav başarısını belirleyen etkenleri açıklamak olsaydı hangi değişkenleri veri kümemizde tutmamız gerekirdi?"
   ]
  },
  {
   "cell_type": "code",
   "execution_count": 1,
   "metadata": {},
   "outputs": [],
   "source": [
    "#1"
   ]
  },
  {
   "cell_type": "code",
   "execution_count": 2,
   "metadata": {},
   "outputs": [
    {
     "data": {
      "text/html": [
       "<div>\n",
       "<style scoped>\n",
       "    .dataframe tbody tr th:only-of-type {\n",
       "        vertical-align: middle;\n",
       "    }\n",
       "\n",
       "    .dataframe tbody tr th {\n",
       "        vertical-align: top;\n",
       "    }\n",
       "\n",
       "    .dataframe thead th {\n",
       "        text-align: right;\n",
       "    }\n",
       "</style>\n",
       "<table border=\"1\" class=\"dataframe\">\n",
       "  <thead>\n",
       "    <tr style=\"text-align: right;\">\n",
       "      <th></th>\n",
       "      <th>cinsiyet</th>\n",
       "      <th>koken</th>\n",
       "      <th>aile_egt_seviyesi</th>\n",
       "      <th>ogle_yemegi</th>\n",
       "      <th>hazirlik_kursu</th>\n",
       "      <th>matematik_notu</th>\n",
       "      <th>okuma_notu</th>\n",
       "      <th>yazma_notu</th>\n",
       "    </tr>\n",
       "  </thead>\n",
       "  <tbody>\n",
       "    <tr>\n",
       "      <td>0</td>\n",
       "      <td>female</td>\n",
       "      <td>group B</td>\n",
       "      <td>bachelor's degree</td>\n",
       "      <td>standard</td>\n",
       "      <td>none</td>\n",
       "      <td>72</td>\n",
       "      <td>72</td>\n",
       "      <td>74</td>\n",
       "    </tr>\n",
       "    <tr>\n",
       "      <td>1</td>\n",
       "      <td>female</td>\n",
       "      <td>group C</td>\n",
       "      <td>some college</td>\n",
       "      <td>standard</td>\n",
       "      <td>completed</td>\n",
       "      <td>69</td>\n",
       "      <td>90</td>\n",
       "      <td>88</td>\n",
       "    </tr>\n",
       "    <tr>\n",
       "      <td>2</td>\n",
       "      <td>female</td>\n",
       "      <td>group B</td>\n",
       "      <td>master's degree</td>\n",
       "      <td>standard</td>\n",
       "      <td>none</td>\n",
       "      <td>90</td>\n",
       "      <td>95</td>\n",
       "      <td>93</td>\n",
       "    </tr>\n",
       "    <tr>\n",
       "      <td>3</td>\n",
       "      <td>male</td>\n",
       "      <td>group A</td>\n",
       "      <td>associate's degree</td>\n",
       "      <td>free/reduced</td>\n",
       "      <td>none</td>\n",
       "      <td>47</td>\n",
       "      <td>57</td>\n",
       "      <td>44</td>\n",
       "    </tr>\n",
       "    <tr>\n",
       "      <td>4</td>\n",
       "      <td>male</td>\n",
       "      <td>group C</td>\n",
       "      <td>some college</td>\n",
       "      <td>standard</td>\n",
       "      <td>none</td>\n",
       "      <td>76</td>\n",
       "      <td>78</td>\n",
       "      <td>75</td>\n",
       "    </tr>\n",
       "  </tbody>\n",
       "</table>\n",
       "</div>"
      ],
      "text/plain": [
       "  cinsiyet    koken   aile_egt_seviyesi   ogle_yemegi hazirlik_kursu  \\\n",
       "0   female  group B   bachelor's degree      standard           none   \n",
       "1   female  group C        some college      standard      completed   \n",
       "2   female  group B     master's degree      standard           none   \n",
       "3     male  group A  associate's degree  free/reduced           none   \n",
       "4     male  group C        some college      standard           none   \n",
       "\n",
       "   matematik_notu  okuma_notu  yazma_notu  \n",
       "0              72          72          74  \n",
       "1              69          90          88  \n",
       "2              90          95          93  \n",
       "3              47          57          44  \n",
       "4              76          78          75  "
      ]
     },
     "execution_count": 2,
     "metadata": {},
     "output_type": "execute_result"
    }
   ],
   "source": [
    "import matplotlib.pyplot as plt\n",
    "import seaborn as sns\n",
    "import numpy as np\n",
    "import pandas as pd\n",
    "import seaborn as sns\n",
    "import scipy.stats as stats\n",
    "from scipy.stats.mstats import winsorize\n",
    "from sqlalchemy import create_engine\n",
    "import warnings\n",
    "\n",
    "warnings.filterwarnings('ignore')\n",
    "sns.set(style=\"whitegrid\")\n",
    "pd.options.display.float_format = '{:.3f}'.format\n",
    "plt.rcParams['figure.dpi'] = 100\n",
    "plt.rcParams['figure.figsize'] = (8,5.5)\n",
    "\n",
    "baslik_font = {'family': 'arial', 'color': 'darkred','weight': 'bold','size': 13 }\n",
    "eksen_font  = {'family': 'arial', 'color': 'darkblue','weight': 'bold','size': 10 }\n",
    "\n",
    "ogrenciler = pd.read_csv(\"veri_kumeleri/StudentsPerformance.csv\")\n",
    "ogrenciler.columns = ['cinsiyet', 'koken', 'aile_egt_seviyesi', 'ogle_yemegi','hazirlik_kursu', \n",
    "                      'matematik_notu', 'okuma_notu', 'yazma_notu']\n",
    "ogrenciler.head()"
   ]
  },
  {
   "cell_type": "code",
   "execution_count": 3,
   "metadata": {},
   "outputs": [
    {
     "data": {
      "image/png": "[encoded data removed]",
      "text/plain": [
       "<Figure size 1296x1080 with 3 Axes>"
      ]
     },
     "metadata": {
      "needs_background": "light"
     },
     "output_type": "display_data"
    }
   ],
   "source": [
    "plt.figure(figsize=(18,15))\n",
    "\n",
    "\n",
    "degiskenler = ['matematik_notu', 'okuma_notu' , 'yazma_notu']\n",
    "\n",
    "for i in range(3):\n",
    "    plt.subplot(3, 3, i+1)\n",
    "    plt.hist(ogrenciler[degiskenler[i]])\n",
    "    plt.title(degiskenler[i], fontdict=baslik_font)\n",
    "\n",
    "plt.show()"
   ]
  },
  {
   "cell_type": "code",
   "execution_count": 4,
   "metadata": {},
   "outputs": [
    {
     "data": {
      "text/html": [
       "<div>\n",
       "<style scoped>\n",
       "    .dataframe tbody tr th:only-of-type {\n",
       "        vertical-align: middle;\n",
       "    }\n",
       "\n",
       "    .dataframe tbody tr th {\n",
       "        vertical-align: top;\n",
       "    }\n",
       "\n",
       "    .dataframe thead th {\n",
       "        text-align: right;\n",
       "    }\n",
       "</style>\n",
       "<table border=\"1\" class=\"dataframe\">\n",
       "  <thead>\n",
       "    <tr style=\"text-align: right;\">\n",
       "      <th></th>\n",
       "      <th>ozellik</th>\n",
       "      <th>jarque_bera_stats</th>\n",
       "      <th>jarque_bera_p_value</th>\n",
       "      <th>normal_stats</th>\n",
       "      <th>normal_p_value</th>\n",
       "    </tr>\n",
       "  </thead>\n",
       "  <tbody>\n",
       "    <tr>\n",
       "      <td>0</td>\n",
       "      <td>matematik_notu</td>\n",
       "      <td>15.91226</td>\n",
       "      <td>0.00035</td>\n",
       "      <td>15.40896</td>\n",
       "      <td>0.00045</td>\n",
       "    </tr>\n",
       "    <tr>\n",
       "      <td>1</td>\n",
       "      <td>okuma_notu</td>\n",
       "      <td>11.38330</td>\n",
       "      <td>0.00337</td>\n",
       "      <td>11.11741</td>\n",
       "      <td>0.00385</td>\n",
       "    </tr>\n",
       "    <tr>\n",
       "      <td>2</td>\n",
       "      <td>yazma_notu</td>\n",
       "      <td>13.98509</td>\n",
       "      <td>0.00092</td>\n",
       "      <td>13.60645</td>\n",
       "      <td>0.00111</td>\n",
       "    </tr>\n",
       "  </tbody>\n",
       "</table>\n",
       "</div>"
      ],
      "text/plain": [
       "          ozellik  jarque_bera_stats  jarque_bera_p_value  normal_stats  \\\n",
       "0  matematik_notu           15.91226              0.00035      15.40896   \n",
       "1      okuma_notu           11.38330              0.00337      11.11741   \n",
       "2      yazma_notu           13.98509              0.00092      13.60645   \n",
       "\n",
       "   normal_p_value  \n",
       "0         0.00045  \n",
       "1         0.00385  \n",
       "2         0.00111  "
      ]
     },
     "execution_count": 4,
     "metadata": {},
     "output_type": "execute_result"
    }
   ],
   "source": [
    "from scipy.stats import jarque_bera\n",
    "from scipy.stats import normaltest\n",
    "\n",
    "pd.options.display.float_format = '{:.5f}'.format\n",
    "\n",
    "ozellikler = [\"matematik_notu\", \"okuma_notu\", \"yazma_notu\"]\n",
    "dagilim_testleri = pd.DataFrame(columns=['ozellik', 'jarque_bera_stats', 'jarque_bera_p_value', \n",
    "                                         'normal_stats', 'normal_p_value'])\n",
    "\n",
    "for ozellik in ozellikler:\n",
    "    jb_stats = jarque_bera(ogrenciler[ozellik])\n",
    "    norm_stats = normaltest(ogrenciler[ozellik])\n",
    "    dagilim_testleri = dagilim_testleri.append({\"ozellik\": ozellik,\n",
    "                                                \"jarque_bera_stats\" : jb_stats[0] ,\n",
    "                                                \"jarque_bera_p_value\" : jb_stats[1] ,\n",
    "                                                \"normal_stats\": norm_stats[0] , \n",
    "                                                \"normal_p_value\" : norm_stats[1]\n",
    "                                               }, ignore_index=True)\n",
    "dagilim_testleri"
   ]
  },
  {
   "cell_type": "markdown",
   "metadata": {},
   "source": [
    "p değerleri 0.05'den küçük olduğu için normal dağılıma uyduğunu söyleyemeyiz.\n",
    "Logunu alıp tekrar deneyelim"
   ]
  },
  {
   "cell_type": "code",
   "execution_count": 5,
   "metadata": {},
   "outputs": [
    {
     "data": {
      "text/html": [
       "<div>\n",
       "<style scoped>\n",
       "    .dataframe tbody tr th:only-of-type {\n",
       "        vertical-align: middle;\n",
       "    }\n",
       "\n",
       "    .dataframe tbody tr th {\n",
       "        vertical-align: top;\n",
       "    }\n",
       "\n",
       "    .dataframe thead th {\n",
       "        text-align: right;\n",
       "    }\n",
       "</style>\n",
       "<table border=\"1\" class=\"dataframe\">\n",
       "  <thead>\n",
       "    <tr style=\"text-align: right;\">\n",
       "      <th></th>\n",
       "      <th>ozellik</th>\n",
       "      <th>jarque_bera_stats</th>\n",
       "      <th>jarque_bera_p_value</th>\n",
       "      <th>normal_stats</th>\n",
       "      <th>normal_p_value</th>\n",
       "    </tr>\n",
       "  </thead>\n",
       "  <tbody>\n",
       "    <tr>\n",
       "      <td>0</td>\n",
       "      <td>matematik_notu</td>\n",
       "      <td>nan</td>\n",
       "      <td>nan</td>\n",
       "      <td>nan</td>\n",
       "      <td>nan</td>\n",
       "    </tr>\n",
       "    <tr>\n",
       "      <td>1</td>\n",
       "      <td>okuma_notu</td>\n",
       "      <td>495.12732</td>\n",
       "      <td>0.00000</td>\n",
       "      <td>209.77151</td>\n",
       "      <td>0.00000</td>\n",
       "    </tr>\n",
       "    <tr>\n",
       "      <td>2</td>\n",
       "      <td>yazma_notu</td>\n",
       "      <td>1410.93701</td>\n",
       "      <td>0.00000</td>\n",
       "      <td>318.96921</td>\n",
       "      <td>0.00000</td>\n",
       "    </tr>\n",
       "  </tbody>\n",
       "</table>\n",
       "</div>"
      ],
      "text/plain": [
       "          ozellik  jarque_bera_stats  jarque_bera_p_value  normal_stats  \\\n",
       "0  matematik_notu                nan                  nan           nan   \n",
       "1      okuma_notu          495.12732              0.00000     209.77151   \n",
       "2      yazma_notu         1410.93701              0.00000     318.96921   \n",
       "\n",
       "   normal_p_value  \n",
       "0             nan  \n",
       "1         0.00000  \n",
       "2         0.00000  "
      ]
     },
     "execution_count": 5,
     "metadata": {},
     "output_type": "execute_result"
    }
   ],
   "source": [
    "from scipy.stats import jarque_bera\n",
    "from scipy.stats import normaltest\n",
    "\n",
    "pd.options.display.float_format = '{:.5f}'.format\n",
    "\n",
    "ozellikler = [\"matematik_notu\", \"okuma_notu\", \"yazma_notu\"]\n",
    "dagilim_testleri = pd.DataFrame(columns=['ozellik', 'jarque_bera_stats', 'jarque_bera_p_value', \n",
    "                                         'normal_stats', 'normal_p_value'])\n",
    "\n",
    "for ozellik in ozellikler:\n",
    "    jb_stats = jarque_bera(np.log(ogrenciler[ozellik]))\n",
    "    norm_stats = normaltest(np.log(ogrenciler[ozellik]))\n",
    "    dagilim_testleri = dagilim_testleri.append({\"ozellik\": ozellik,\n",
    "                                                \"jarque_bera_stats\" : jb_stats[0] ,\n",
    "                                                \"jarque_bera_p_value\" : jb_stats[1] ,\n",
    "                                                \"normal_stats\": norm_stats[0] , \n",
    "                                                \"normal_p_value\" : norm_stats[1]\n",
    "                                               }, ignore_index=True)\n",
    "dagilim_testleri"
   ]
  },
  {
   "cell_type": "markdown",
   "metadata": {},
   "source": [
    "p değeri log aldığımızda da 0.05 den küçük çıktığı için log dönüşümünün da normal dağılıma uymadığı söyleyebiliriz"
   ]
  },
  {
   "cell_type": "markdown",
   "metadata": {},
   "source": [
    "Verileri şimdi normalize edelim"
   ]
  },
  {
   "cell_type": "code",
   "execution_count": 6,
   "metadata": {},
   "outputs": [
    {
     "name": "stdout",
     "output_type": "stream",
     "text": [
      "Minimum Değer\n",
      "-----------------\n",
      "matematik_notu         0.00000\n",
      "norm_matematik_notu    0.00000\n",
      "okuma_notu            17.00000\n",
      "norm_okuma_notu        0.00760\n",
      "yazma_notu            10.00000\n",
      "norm_yazma_notu        0.00454\n",
      "dtype: float64\n",
      "\n",
      "Maksimum Değer\n",
      "-----------------\n",
      "matematik_notu        100.00000\n",
      "norm_matematik_notu     0.04664\n",
      "okuma_notu            100.00000\n",
      "norm_okuma_notu         0.04473\n",
      "yazma_notu            100.00000\n",
      "norm_yazma_notu         0.04535\n",
      "dtype: float64\n"
     ]
    }
   ],
   "source": [
    "from sklearn.preprocessing import normalize\n",
    "\n",
    "ogrenciler[\"norm_matematik_notu\"] = normalize(np.array(ogrenciler[\"matematik_notu\"]).reshape(1,-1)).reshape(-1,1)\n",
    "ogrenciler[\"norm_okuma_notu\"] = normalize(np.array(ogrenciler[\"okuma_notu\"]).reshape(1,-1)).reshape(-1,1)\n",
    "ogrenciler[\"norm_yazma_notu\"] = normalize(np.array(ogrenciler[\"yazma_notu\"]).reshape(1,-1)).reshape(-1,1)\n",
    "normal_ozellikler=[\"matematik_notu\",\"norm_matematik_notu\",\"okuma_notu\",\"norm_okuma_notu\",\n",
    "                    \"yazma_notu\",\"norm_yazma_notu\"]\n",
    "\n",
    "\n",
    "print('Minimum Değer\\n-----------------',)\n",
    "print(ogrenciler[normal_ozellikler].min())\n",
    "print('\\nMaksimum Değer\\n-----------------',)\n",
    "print(ogrenciler[normal_ozellikler].max())"
   ]
  },
  {
   "cell_type": "markdown",
   "metadata": {},
   "source": [
    "Normalleştirdiğimiz değerleri grafik üzerinde görelim"
   ]
  },
  {
   "cell_type": "code",
   "execution_count": 7,
   "metadata": {},
   "outputs": [
    {
     "data": {
      "image/png": "[encoded data removed]",
      "text/plain": [
       "<Figure size 1296x360 with 3 Axes>"
      ]
     },
     "metadata": {
      "needs_background": "light"
     },
     "output_type": "display_data"
    }
   ],
   "source": [
    "plt.figure(figsize=(18,5))\n",
    "\n",
    "for i in range(3):\n",
    "    plt.subplot(1,3,i+1)\n",
    "    plt.scatter(ogrenciler[normal_ozellikler[2*i]], ogrenciler[normal_ozellikler[2*i+1]])\n",
    "    plt.title(\"Orjinal ve Normalize değerler \\n ({})\".format(normal_ozellikler[2*i]), fontdict=baslik_font)\n",
    "    plt.xlabel(\"Orjinal Değer\", fontdict=eksen_font)\n",
    "    plt.ylabel(\"Normalleştirilmiş Değer\", fontdict=eksen_font)\n",
    "\n",
    "plt.show()"
   ]
  },
  {
   "cell_type": "markdown",
   "metadata": {},
   "source": [
    "2. Üç sınav sonucunu tek bir değişkende, hedef değişkeni olarak tutmak istiyoruz. \n",
    "Bunun için üç sınavın ortalamasını içeren yeni bir değişken tanımlayın. \n",
    "Bu yeni değişkenin ortalamasının normal dağılımlı olup olmadığını test edin. \n",
    "Eğer normal dağılıma sahip değilse dönüşüm yaparak normal dağılımlı hale getirmeye çalışın ve dönüşümün sonucunu test edin."
   ]
  },
  {
   "cell_type": "code",
   "execution_count": 8,
   "metadata": {},
   "outputs": [],
   "source": [
    "ogrenciler[\"not_ortalama\"]=(ogrenciler[\"matematik_notu\"]+ogrenciler[\"okuma_notu\"]+ogrenciler[\"yazma_notu\"])/3"
   ]
  },
  {
   "cell_type": "code",
   "execution_count": 9,
   "metadata": {},
   "outputs": [
    {
     "data": {
      "text/html": [
       "<div>\n",
       "<style scoped>\n",
       "    .dataframe tbody tr th:only-of-type {\n",
       "        vertical-align: middle;\n",
       "    }\n",
       "\n",
       "    .dataframe tbody tr th {\n",
       "        vertical-align: top;\n",
       "    }\n",
       "\n",
       "    .dataframe thead th {\n",
       "        text-align: right;\n",
       "    }\n",
       "</style>\n",
       "<table border=\"1\" class=\"dataframe\">\n",
       "  <thead>\n",
       "    <tr style=\"text-align: right;\">\n",
       "      <th></th>\n",
       "      <th>cinsiyet</th>\n",
       "      <th>koken</th>\n",
       "      <th>aile_egt_seviyesi</th>\n",
       "      <th>ogle_yemegi</th>\n",
       "      <th>hazirlik_kursu</th>\n",
       "      <th>matematik_notu</th>\n",
       "      <th>okuma_notu</th>\n",
       "      <th>yazma_notu</th>\n",
       "      <th>norm_matematik_notu</th>\n",
       "      <th>norm_okuma_notu</th>\n",
       "      <th>norm_yazma_notu</th>\n",
       "      <th>not_ortalama</th>\n",
       "    </tr>\n",
       "  </thead>\n",
       "  <tbody>\n",
       "    <tr>\n",
       "      <td>0</td>\n",
       "      <td>female</td>\n",
       "      <td>group B</td>\n",
       "      <td>bachelor's degree</td>\n",
       "      <td>standard</td>\n",
       "      <td>none</td>\n",
       "      <td>72</td>\n",
       "      <td>72</td>\n",
       "      <td>74</td>\n",
       "      <td>0.03358</td>\n",
       "      <td>0.03221</td>\n",
       "      <td>0.03356</td>\n",
       "      <td>72.66667</td>\n",
       "    </tr>\n",
       "    <tr>\n",
       "      <td>1</td>\n",
       "      <td>female</td>\n",
       "      <td>group C</td>\n",
       "      <td>some college</td>\n",
       "      <td>standard</td>\n",
       "      <td>completed</td>\n",
       "      <td>69</td>\n",
       "      <td>90</td>\n",
       "      <td>88</td>\n",
       "      <td>0.03218</td>\n",
       "      <td>0.04026</td>\n",
       "      <td>0.03991</td>\n",
       "      <td>82.33333</td>\n",
       "    </tr>\n",
       "    <tr>\n",
       "      <td>2</td>\n",
       "      <td>female</td>\n",
       "      <td>group B</td>\n",
       "      <td>master's degree</td>\n",
       "      <td>standard</td>\n",
       "      <td>none</td>\n",
       "      <td>90</td>\n",
       "      <td>95</td>\n",
       "      <td>93</td>\n",
       "      <td>0.04197</td>\n",
       "      <td>0.04250</td>\n",
       "      <td>0.04218</td>\n",
       "      <td>92.66667</td>\n",
       "    </tr>\n",
       "    <tr>\n",
       "      <td>3</td>\n",
       "      <td>male</td>\n",
       "      <td>group A</td>\n",
       "      <td>associate's degree</td>\n",
       "      <td>free/reduced</td>\n",
       "      <td>none</td>\n",
       "      <td>47</td>\n",
       "      <td>57</td>\n",
       "      <td>44</td>\n",
       "      <td>0.02192</td>\n",
       "      <td>0.02550</td>\n",
       "      <td>0.01995</td>\n",
       "      <td>49.33333</td>\n",
       "    </tr>\n",
       "    <tr>\n",
       "      <td>4</td>\n",
       "      <td>male</td>\n",
       "      <td>group C</td>\n",
       "      <td>some college</td>\n",
       "      <td>standard</td>\n",
       "      <td>none</td>\n",
       "      <td>76</td>\n",
       "      <td>78</td>\n",
       "      <td>75</td>\n",
       "      <td>0.03545</td>\n",
       "      <td>0.03489</td>\n",
       "      <td>0.03401</td>\n",
       "      <td>76.33333</td>\n",
       "    </tr>\n",
       "  </tbody>\n",
       "</table>\n",
       "</div>"
      ],
      "text/plain": [
       "  cinsiyet    koken   aile_egt_seviyesi   ogle_yemegi hazirlik_kursu  \\\n",
       "0   female  group B   bachelor's degree      standard           none   \n",
       "1   female  group C        some college      standard      completed   \n",
       "2   female  group B     master's degree      standard           none   \n",
       "3     male  group A  associate's degree  free/reduced           none   \n",
       "4     male  group C        some college      standard           none   \n",
       "\n",
       "   matematik_notu  okuma_notu  yazma_notu  norm_matematik_notu  \\\n",
       "0              72          72          74              0.03358   \n",
       "1              69          90          88              0.03218   \n",
       "2              90          95          93              0.04197   \n",
       "3              47          57          44              0.02192   \n",
       "4              76          78          75              0.03545   \n",
       "\n",
       "   norm_okuma_notu  norm_yazma_notu  not_ortalama  \n",
       "0          0.03221          0.03356      72.66667  \n",
       "1          0.04026          0.03991      82.33333  \n",
       "2          0.04250          0.04218      92.66667  \n",
       "3          0.02550          0.01995      49.33333  \n",
       "4          0.03489          0.03401      76.33333  "
      ]
     },
     "execution_count": 9,
     "metadata": {},
     "output_type": "execute_result"
    }
   ],
   "source": [
    "ogrenciler.head()"
   ]
  },
  {
   "cell_type": "code",
   "execution_count": 10,
   "metadata": {},
   "outputs": [
    {
     "data": {
      "text/html": [
       "<div>\n",
       "<style scoped>\n",
       "    .dataframe tbody tr th:only-of-type {\n",
       "        vertical-align: middle;\n",
       "    }\n",
       "\n",
       "    .dataframe tbody tr th {\n",
       "        vertical-align: top;\n",
       "    }\n",
       "\n",
       "    .dataframe thead th {\n",
       "        text-align: right;\n",
       "    }\n",
       "</style>\n",
       "<table border=\"1\" class=\"dataframe\">\n",
       "  <thead>\n",
       "    <tr style=\"text-align: right;\">\n",
       "      <th></th>\n",
       "      <th>ozellik</th>\n",
       "      <th>jarque_bera_stats</th>\n",
       "      <th>jarque_bera_p_value</th>\n",
       "      <th>normal_stats</th>\n",
       "      <th>normal_p_value</th>\n",
       "    </tr>\n",
       "  </thead>\n",
       "  <tbody>\n",
       "    <tr>\n",
       "      <td>0</td>\n",
       "      <td>not_ortalama</td>\n",
       "      <td>15.45339</td>\n",
       "      <td>0.00044</td>\n",
       "      <td>15.18672</td>\n",
       "      <td>0.00050</td>\n",
       "    </tr>\n",
       "  </tbody>\n",
       "</table>\n",
       "</div>"
      ],
      "text/plain": [
       "        ozellik  jarque_bera_stats  jarque_bera_p_value  normal_stats  \\\n",
       "0  not_ortalama           15.45339              0.00044      15.18672   \n",
       "\n",
       "   normal_p_value  \n",
       "0         0.00050  "
      ]
     },
     "execution_count": 10,
     "metadata": {},
     "output_type": "execute_result"
    }
   ],
   "source": [
    "from scipy.stats import jarque_bera\n",
    "from scipy.stats import normaltest\n",
    "\n",
    "pd.options.display.float_format = '{:.5f}'.format\n",
    "\n",
    "ozellikler = [\"not_ortalama\"]\n",
    "dagilim_testleri = pd.DataFrame(columns=['ozellik', 'jarque_bera_stats', 'jarque_bera_p_value', \n",
    "                                         'normal_stats', 'normal_p_value'])\n",
    "\n",
    "for ozellik in ozellikler:\n",
    "    jb_stats = jarque_bera(ogrenciler[ozellik])\n",
    "    norm_stats = normaltest(ogrenciler[ozellik])\n",
    "    dagilim_testleri = dagilim_testleri.append({\"ozellik\": ozellik,\n",
    "                                                \"jarque_bera_stats\" : jb_stats[0] ,\n",
    "                                                \"jarque_bera_p_value\" : jb_stats[1] ,\n",
    "                                                \"normal_stats\": norm_stats[0] , \n",
    "                                                \"normal_p_value\" : norm_stats[1]\n",
    "                                               }, ignore_index=True)\n",
    "dagilim_testleri"
   ]
  },
  {
   "cell_type": "code",
   "execution_count": 11,
   "metadata": {},
   "outputs": [
    {
     "data": {
      "text/html": [
       "<div>\n",
       "<style scoped>\n",
       "    .dataframe tbody tr th:only-of-type {\n",
       "        vertical-align: middle;\n",
       "    }\n",
       "\n",
       "    .dataframe tbody tr th {\n",
       "        vertical-align: top;\n",
       "    }\n",
       "\n",
       "    .dataframe thead th {\n",
       "        text-align: right;\n",
       "    }\n",
       "</style>\n",
       "<table border=\"1\" class=\"dataframe\">\n",
       "  <thead>\n",
       "    <tr style=\"text-align: right;\">\n",
       "      <th></th>\n",
       "      <th>ozellik</th>\n",
       "      <th>jarque_bera_stats</th>\n",
       "      <th>jarque_bera_p_value</th>\n",
       "      <th>normal_stats</th>\n",
       "      <th>normal_p_value</th>\n",
       "    </tr>\n",
       "  </thead>\n",
       "  <tbody>\n",
       "    <tr>\n",
       "      <td>0</td>\n",
       "      <td>not_ortalama</td>\n",
       "      <td>2167.03935</td>\n",
       "      <td>0.00000</td>\n",
       "      <td>361.83694</td>\n",
       "      <td>0.00000</td>\n",
       "    </tr>\n",
       "  </tbody>\n",
       "</table>\n",
       "</div>"
      ],
      "text/plain": [
       "        ozellik  jarque_bera_stats  jarque_bera_p_value  normal_stats  \\\n",
       "0  not_ortalama         2167.03935              0.00000     361.83694   \n",
       "\n",
       "   normal_p_value  \n",
       "0         0.00000  "
      ]
     },
     "execution_count": 11,
     "metadata": {},
     "output_type": "execute_result"
    }
   ],
   "source": [
    "from scipy.stats import jarque_bera\n",
    "from scipy.stats import normaltest\n",
    "\n",
    "pd.options.display.float_format = '{:.5f}'.format\n",
    "\n",
    "ozellikler = [\"not_ortalama\"]\n",
    "dagilim_testleri = pd.DataFrame(columns=['ozellik', 'jarque_bera_stats', 'jarque_bera_p_value', \n",
    "                                         'normal_stats', 'normal_p_value'])\n",
    "\n",
    "for ozellik in ozellikler:\n",
    "    jb_stats = jarque_bera(np.log(ogrenciler[ozellik]))\n",
    "    norm_stats = normaltest(np.log(ogrenciler[ozellik]))\n",
    "    dagilim_testleri = dagilim_testleri.append({\"ozellik\": ozellik,\n",
    "                                                \"jarque_bera_stats\" : jb_stats[0] ,\n",
    "                                                \"jarque_bera_p_value\" : jb_stats[1] ,\n",
    "                                                \"normal_stats\": norm_stats[0] , \n",
    "                                                \"normal_p_value\" : norm_stats[1]\n",
    "                                               }, ignore_index=True)\n",
    "dagilim_testleri"
   ]
  },
  {
   "cell_type": "markdown",
   "metadata": {},
   "source": [
    "orjinal veriler ve log dönüşümü normal dağılıma uymuyor"
   ]
  },
  {
   "cell_type": "markdown",
   "metadata": {},
   "source": [
    "Verileri standartlaştırıyoruz"
   ]
  },
  {
   "cell_type": "code",
   "execution_count": 12,
   "metadata": {},
   "outputs": [
    {
     "name": "stdout",
     "output_type": "stream",
     "text": [
      "Standart Sapmalar\n",
      "-----------------\n",
      "not_ortalama           14.25733\n",
      "olcekli_not_ortalama    1.00050\n",
      "dtype: float64\n",
      "\n",
      "Ortalamalar\n",
      "-----------------\n",
      "not_ortalama           67.77067\n",
      "olcekli_not_ortalama    0.00000\n",
      "dtype: float64\n"
     ]
    }
   ],
   "source": [
    "from sklearn.preprocessing import scale\n",
    "\n",
    "ogrenciler[\"olcekli_not_ortalama\"] = scale(ogrenciler[\"not_ortalama\"])\n",
    "\n",
    "olcekli_ozellikler=[\"not_ortalama\",\"olcekli_not_ortalama\"]\n",
    "\n",
    "print('Standart Sapmalar\\n-----------------',)\n",
    "print(ogrenciler[olcekli_ozellikler].std())\n",
    "print('\\nOrtalamalar\\n-----------------',)\n",
    "print(ogrenciler[olcekli_ozellikler].mean())"
   ]
  },
  {
   "cell_type": "code",
   "execution_count": 13,
   "metadata": {},
   "outputs": [
    {
     "data": {
      "image/png": "[encoded data removed]",
      "text/plain": [
       "<Figure size 720x360 with 1 Axes>"
      ]
     },
     "metadata": {
      "needs_background": "light"
     },
     "output_type": "display_data"
    }
   ],
   "source": [
    "plt.figure(figsize=(10,5))\n",
    "\n",
    "plt.scatter(ogrenciler[olcekli_ozellikler[0]], ogrenciler[olcekli_ozellikler[1]])\n",
    "plt.title(\"Orjinal ve Standartlaştırılmış değerler \\n ({})\".format(olcekli_ozellikler[0]), fontdict=baslik_font)\n",
    "plt.xlabel(\"Winsorize Değer\", fontdict=eksen_font)\n",
    "plt.ylabel(\"Standartlaştırılmış winsorize değer\", fontdict=eksen_font)\n",
    "\n",
    "plt.show()"
   ]
  },
  {
   "cell_type": "markdown",
   "metadata": {},
   "source": [
    "3. Bir önceki soruda oluşturduğumuz hedef değişkeni ile hangi değişkenler ilişkili görünüyor? \n",
    "Eğer amacımız sınav başarısını belirleyen etkenleri açıklamak olsaydı hangi değişkenleri veri kümemizde tutmamız gerekirdi?"
   ]
  },
  {
   "cell_type": "code",
   "execution_count": 17,
   "metadata": {
    "scrolled": true
   },
   "outputs": [
    {
     "data": {
      "image/png": "[encoded data removed]",
      "text/plain": [
       "<Figure size 1296x1296 with 3 Axes>"
      ]
     },
     "metadata": {
      "needs_background": "light"
     },
     "output_type": "display_data"
    }
   ],
   "source": [
    "plt.figure(figsize=(18,18))\n",
    "baslik_font = {'family': 'arial', 'color': 'darkred','weight': 'bold','size': 10 }\n",
    "eksen_font  = {'family': 'arial', 'color': 'darkblue','weight': 'bold','size': 2 }\n",
    "\n",
    "plt.subplot(3,3,1)\n",
    "sns.barplot(ogrenciler[\"cinsiyet\"], ogrenciler[\"not_ortalama\"])\n",
    "plt.title(\"Cinsiyete göre matematik notları\", fontdict = baslik_font)\n",
    "\n",
    "plt.subplot(3,3,2)\n",
    "sns.barplot(ogrenciler[\"koken\"], ogrenciler[\"not_ortalama\"])\n",
    "plt.title(\"Kökene göre matematik notları\", fontdict = baslik_font)\n",
    "\n",
    "\n",
    "plt.subplot(3,3,3)\n",
    "sns.barplot(ogrenciler[\"aile_egt_seviyesi\"], ogrenciler[\"not_ortalama\"])\n",
    "plt.title(\"Aileye göre matematik notları\", fontdict = baslik_font)\n",
    "\n",
    "\n",
    "plt.show()"
   ]
  },
  {
   "cell_type": "markdown",
   "metadata": {},
   "source": [
    "Not ortalamaları cinsiyete, kökene ve aileye göre değişiklik gösteriyor. Bu değişkenleri veri kümemizde tutmamız gerekir."
   ]
  },
  {
   "cell_type": "code",
   "execution_count": null,
   "metadata": {},
   "outputs": [],
   "source": []
  }
 ],
 "metadata": {
  "kernelspec": {
   "display_name": "Python 3",
   "language": "python",
   "name": "python3"
  },
  "language_info": {
   "codemirror_mode": {
    "name": "ipython",
    "version": 3
   },
   "file_extension": ".py",
   "mimetype": "text/x-python",
   "name": "python",
   "nbconvert_exporter": "python",
   "pygments_lexer": "ipython3",
   "version": "3.7.2"
  }
 },
 "nbformat": 4,
 "nbformat_minor": 2
}
