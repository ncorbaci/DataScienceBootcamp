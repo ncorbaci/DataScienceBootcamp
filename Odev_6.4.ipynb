{
 "cells": [
  {
   "cell_type": "markdown",
   "metadata": {},
   "source": [
    "**ABD’deki ailelerin yıllık dinlenme/eğlenme harcamalarını bilmek istediğimizi varsayalım. Aşağıdaki modeli tahmin ettik:\n",
    "Harcama ABD doları cinsinden eğlenme yıllık harcamasıdır, yıllık_gelir ABD doları cinsinden yıllık gelirdir ve cocuk_sahibi \n",
    "çocuklu aileleri gösteren değişkendir. \n",
    "Tahmin edilen katsayıları yorumlayınız. \n",
    "Yorumlarınızın istatistiksel olarak anlamlı olduğundan emin olmak için hangi ek istatistikler verilmelidir? Cevabınızı yazın ve bir Gist'e kaydedin.**"
   ]
  },
  {
   "cell_type": "markdown",
   "metadata": {},
   "source": [
    "* Yıllık gelir miktarındaki her 1000 dolarlık artış eğlence harcamalarında yaklaşık 21 dolarlık bir atış sağlayacaktır.\n",
    "* Yıllık kazanç artıkça dinlenme/eğlence ye ayrılan artış kazanç oranına göre daha fazla artmaktadır.\n",
    "* Çocuk sayısı artıkça dinlenme/eğlenceye harcanan para azalacaktır.\n",
    "* Gelir düzeyi artıkça çocukların eğlence/dinleme harcamasına olan etkisi azalacaktır\n"
   ]
  },
  {
   "cell_type": "markdown",
   "metadata": {},
   "source": [
    "2) https://github.com/ncorbaci/DataScienceBootcamp/blob/master/Odev_6.4.2.ipynb"
   ]
  },
  {
   "cell_type": "markdown",
   "metadata": {},
   "source": [
    "3) https://github.com/ncorbaci/DataScienceBootcamp/blob/master/Odev_6.4.3.ipynb\n",
    "\n"
   ]
  },
  {
   "cell_type": "code",
   "execution_count": null,
   "metadata": {},
   "outputs": [],
   "source": []
  }
 ],
 "metadata": {
  "kernelspec": {
   "display_name": "Python 3",
   "language": "python",
   "name": "python3"
  },
  "language_info": {
   "codemirror_mode": {
    "name": "ipython",
    "version": 3
   },
   "file_extension": ".py",
   "mimetype": "text/x-python",
   "name": "python",
   "nbconvert_exporter": "python",
   "pygments_lexer": "ipython3",
   "version": "3.7.2"
  }
 },
 "nbformat": 4,
 "nbformat_minor": 2
}
