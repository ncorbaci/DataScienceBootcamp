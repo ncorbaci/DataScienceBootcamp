{
 "cells": [
  {
   "cell_type": "markdown",
   "metadata": {},
   "source": [
    "#1"
   ]
  },
  {
   "cell_type": "code",
   "execution_count": 28,
   "metadata": {},
   "outputs": [
    {
     "name": "stdout",
     "output_type": "stream",
     "text": [
      "Silmek istediğiniz iki günü giriniz : 23\n",
      "{1: 'Pazartesi', 4: 'Perşembe', 5: 'Cuma', 6: 'Cumartesi', 7: 'Pazar'}\n"
     ]
    }
   ],
   "source": [
    "\n",
    "days = {\n",
    "        1: \"Pazartesi\",\n",
    "        2: \"Salı\",\n",
    "        3: \"Çarşamba\",\n",
    "        4: \"Perşembe\",\n",
    "        5: \"Cuma\",\n",
    "        6: \"Cumartesi\",\n",
    "        7: \"Pazar\"\n",
    "       }\n",
    "\n",
    "gunler = input('Silmek istediğiniz iki günü giriniz : ')\n",
    "kume = set(gunler)\n",
    "\n",
    "\n",
    "s = list(kume)\n",
    "results = list(map(int, s))\n",
    "\n",
    "del days[results[0]]\n",
    "del days[results[1]]\n",
    "\n",
    "print(days)\n"
   ]
  },
  {
   "cell_type": "code",
   "execution_count": null,
   "metadata": {},
   "outputs": [],
   "source": [
    "#2"
   ]
  },
  {
   "cell_type": "code",
   "execution_count": 1,
   "metadata": {
    "scrolled": false
   },
   "outputs": [
    {
     "name": "stdout",
     "output_type": "stream",
     "text": [
      "[['Ocak', 31], ['Şubat', 28], ['Mart', 31], ['Nisan', 30], ['Mayıs', 31], ['Haziran', 30], ['Temmuz', 31], ['Ağustos', 31], ['Eylül', 30], ['Ekim', 31], ['Kasım', 30], ['Aralık', 31]]\n"
     ]
    }
   ],
   "source": [
    "Ay_gun = [['Ocak',31],['Şubat',28],['Mart',31],['Nisan',30],['Mayıs',31],['Haziran',30],['Temmuz',31],\n",
    "          ['Ağustos',31],['Eylül',30],['Ekim',31],['Kasım',30],['Aralık',31]]\n",
    "print(Ay_gun)\n"
   ]
  },
  {
   "cell_type": "code",
   "execution_count": 8,
   "metadata": {},
   "outputs": [],
   "source": [
    "#3"
   ]
  },
  {
   "cell_type": "code",
   "execution_count": 22,
   "metadata": {
    "scrolled": false
   },
   "outputs": [
    {
     "name": "stdout",
     "output_type": "stream",
     "text": [
      "[['Ocak', 'Şubat', 'Mart', 'Nisan', 'Mayıs', 'Haziran', 'Temmuz', 'Ağustos', 'Eylül', 'Ekim', 'Kasım', 'Aralık'], [31, 28, 31, 30, 31, 30, 31, 31, 30, 31, 30, 31]]\n"
     ]
    }
   ],
   "source": [
    "Ay_gun = [['Ocak',31],['Şubat',28],['Mart',31],['Nisan',30],['Mayıs',31],['Haziran',30],['Temmuz',31],\n",
    "          ['Ağustos',31],['Eylül',30],['Ekim',31],['Kasım',30],['Aralık',31]]\n",
    "\n",
    "lst2 = [item[0] for item in Ay_gun]\n",
    "lst3=  [item[1] for item in Ay_gun]\n",
    "\n",
    "lst4 =[lst2,lst3]\n",
    "print(lst4)"
   ]
  },
  {
   "cell_type": "code",
   "execution_count": null,
   "metadata": {},
   "outputs": [],
   "source": [
    "#4"
   ]
  },
  {
   "cell_type": "code",
   "execution_count": 23,
   "metadata": {},
   "outputs": [
    {
     "name": "stdout",
     "output_type": "stream",
     "text": [
      "{'ilkbahar': [['Mart', 31], ['Nisan', 30], ['Mayıs', 31]], 'yaz': [['Haziran', 30], ['Temmuz', 31], ['Ağustos', 31]], 'sonbahar': [['Eylül', 30], ['Ekim', 31], ['Kasım', 30]], 'kış': [['Aralık', 31], ['Ocak', 31], ['Şubat', 28]]}\n"
     ]
    }
   ],
   "source": [
    "ilkbahar = [['Mart',31],['Nisan',30],['Mayıs',31]]\n",
    "yaz = [['Haziran',30],['Temmuz',31], ['Ağustos',31]]\n",
    "sonbahar = [['Eylül',30],['Ekim',31],['Kasım',30]]\n",
    "kış = [['Aralık',31], ['Ocak',31],['Şubat',28]]\n",
    "\n",
    "mevsim_ayları = {\"ilkbahar\":ilkbahar, \"yaz\":yaz, \"sonbahar\":sonbahar, \"kış\":kış}\n",
    "\n",
    "print(mevsim_ayları)"
   ]
  },
  {
   "cell_type": "code",
   "execution_count": null,
   "metadata": {},
   "outputs": [],
   "source": [
    "#5"
   ]
  },
  {
   "cell_type": "code",
   "execution_count": 29,
   "metadata": {
    "scrolled": true
   },
   "outputs": [
    {
     "name": "stdout",
     "output_type": "stream",
     "text": [
      "Gun Sayıs: 92\n"
     ]
    }
   ],
   "source": [
    "#print(mevsim_ayları[\"yaz\"])\n",
    "gunsayısı = [item[1] for item in mevsim_ayları[\"yaz\"]]\n",
    "#print(gunsayısı)\n",
    "\n",
    "print(\"Gun Sayısı:\",sum(gunsayısı))\n"
   ]
  }
 ],
 "metadata": {
  "kernelspec": {
   "display_name": "Python 3",
   "language": "python",
   "name": "python3"
  },
  "language_info": {
   "codemirror_mode": {
    "name": "ipython",
    "version": 3
   },
   "file_extension": ".py",
   "mimetype": "text/x-python",
   "name": "python",
   "nbconvert_exporter": "python",
   "pygments_lexer": "ipython3",
   "version": "3.7.2"
  }
 },
 "nbformat": 4,
 "nbformat_minor": 2
}
