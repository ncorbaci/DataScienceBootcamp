{
 "cells": [
  {
   "cell_type": "code",
   "execution_count": null,
   "metadata": {},
   "outputs": [],
   "source": [
    "#1\n",
    "Rank değişkeni sadece sıralama için kullanılması düşünülüyorsa kategorik olarak kullanılabilir. Ama sıralama dışında \n",
    "sıralamayı oluşturan değerler düşümülecekse kategorik olarak düşünülmesi çok anlamlı olmayabilir (En pahalı hisse senetleri\n",
    "fiyatları gibi)\n",
    "                                                                                                \n",
    "\n",
    "#2\n",
    "Yaş : Sürekli değişken(Oran değişkeni)\n",
    "Maaş : Sürekli değişken(Oran değişken)\n",
    "Gelir : Sürekli değişken\n",
    "Müşteri türü : Kategorik değişken(Nominal)\n",
    "Hisse senedi fiyatı : Sürekli değişken(Oran değişken)"
   ]
  }
 ],
 "metadata": {
  "kernelspec": {
   "display_name": "Python 3",
   "language": "python",
   "name": "python3"
  },
  "language_info": {
   "codemirror_mode": {
    "name": "ipython",
    "version": 3
   },
   "file_extension": ".py",
   "mimetype": "text/x-python",
   "name": "python",
   "nbconvert_exporter": "python",
   "pygments_lexer": "ipython3",
   "version": "3.7.2"
  }
 },
 "nbformat": 4,
 "nbformat_minor": 2
}
